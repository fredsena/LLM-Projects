{
 "cells": [
  {
   "cell_type": "code",
   "execution_count": null,
   "id": "62a53a44-a4bc-42b8-83ef-4427e571b293",
   "metadata": {},
   "outputs": [],
   "source": [
    "# !pip -q install langchain==X.X.XXX"
   ]
  },
  {
   "cell_type": "code",
   "execution_count": 4,
   "id": "8eb7a1db-1827-4a1a-9049-9fd9501cc743",
   "metadata": {},
   "outputs": [],
   "source": [
    "import os\n",
    "import sys\n",
    "import warnings\n",
    "\n",
    "from langchain.chains import ConversationalRetrievalChain, RetrievalQA\n",
    "from langchain.chat_models import ChatOpenAI\n",
    "\n",
    "from langchain.llms import OpenAI\n",
    "from langchain.llms import CTransformers"
   ]
  },
  {
   "cell_type": "code",
   "execution_count": null,
   "id": "0d7315e3-24dd-4f74-96d9-c54b84407b04",
   "metadata": {},
   "outputs": [],
   "source": [
    "pip show langchain"
   ]
  },
  {
   "cell_type": "code",
   "execution_count": null,
   "id": "c066525d-04b3-41e3-bb93-727b242b23de",
   "metadata": {},
   "outputs": [],
   "source": [
    "pip show pydantic"
   ]
  },
  {
   "cell_type": "code",
   "execution_count": 1,
   "id": "500305ca-a92e-47a3-af58-31b9ee87b8cc",
   "metadata": {},
   "outputs": [],
   "source": [
    "from pydantic import BaseModel, Field\n",
    "\n",
    "class multiplyInput(BaseModel):\n",
    "    \"\"\"Input for multiply two numbers.\"\"\"\n",
    "\n",
    "    first_int: int = Field(..., first_int=\"The first number to be multiplied\")\n",
    "    second_int: int = Field(..., second_int=\"The second number to be multiplied\")\n",
    "    "
   ]
  },
  {
   "cell_type": "code",
   "execution_count": 2,
   "id": "8cea2e91-78c8-406d-a942-63ea1520f58b",
   "metadata": {},
   "outputs": [],
   "source": [
    "import os\n",
    "import json\n",
    "import requests\n",
    "from typing import Optional, Type\n",
    "from langchain.agents import Tool\n",
    "from langchain.tools import BaseTool\n",
    "from pydantic import ValidationError\n",
    "\n",
    "class MultiplyTool(BaseTool):\n",
    "    name = \"Multiply two numbers\"\n",
    "    description = \"Useful for when you need to multiply two numbers\"\n",
    "\n",
    "    def _run(self, first_int: int, second_int: int):\n",
    "\n",
    "        def multiply(first_int: int, second_int: int) -> int:\n",
    "            \"\"\"Multiply two integers together.\"\"\"\n",
    "            return first_int * second_int\n",
    "\n",
    "        return multiply(first_int, second_int)\n",
    "       \n",
    "    def _arun(self, first_int: int, second_int: int):\n",
    "        raise NotImplementedError(\"This tool does not support async\")\n",
    "\n",
    "    args_schema: Optional[Type[BaseModel]] = multiplyInput\n",
    "   \n",
    "\n",
    "multiply_tool_getter = MultiplyTool()"
   ]
  },
  {
   "cell_type": "code",
   "execution_count": 5,
   "id": "ba4ae1ee-3382-4827-a33c-86d710aaa7a3",
   "metadata": {},
   "outputs": [
    {
     "name": "stdout",
     "output_type": "stream",
     "text": [
      "50\n"
     ]
    }
   ],
   "source": [
    "result = multiply_tool_getter._run(5,10)\n",
    "print(result)"
   ]
  },
  {
   "cell_type": "code",
   "execution_count": 6,
   "id": "e040fd98-6896-47e7-9f0a-1a04382b8b22",
   "metadata": {},
   "outputs": [],
   "source": [
    "import os\n",
    "import requests\n",
    "\n",
    "# https://dictionarygame-api.azurewebsites.net/admin/9440341601894424/games\n",
    "# https://dictionarygame-api.azurewebsites.net/gamestatus/2023051105424097922400/allgameresults\n",
    "\n",
    "def get_players_scores(game_code: str):\n",
    "    \"\"\"Get players scores data from the online game DictionaryGame.net, and return the list of winners\"\"\"\n",
    "    api_endpoint = \"https://dictionarygame-api.azurewebsites.net/admin/9440341601894424/games\"\n",
    "    #header_dic = {\"Authorization\": f'Bearer {os.environ.get(\"PROXYCURL_API_KEY\")}'}\n",
    "\n",
    "    # response = requests.get(\n",
    "    #     api_endpoint, params={\"url\": linkedin_profile_url}, headers=header_dic\n",
    "    # )\n",
    "\n",
    "    response = requests.get(api_endpoint)\n",
    "\n",
    "    if response.status_code == 404:\n",
    "        return \"\"\n",
    "\n",
    "    data = response.json()\n",
    "    # data = {\n",
    "    #     k: v\n",
    "    #     for k, v in data.items()\n",
    "    #     if v not in ([], \"\", \"\", None)\n",
    "    #     and k in [\"gameScore\"]\n",
    "    # }\n",
    "    \n",
    "    # if data.get(\"groups\"):\n",
    "    #     for group_dict in data.get(\"gameScore\"):\n",
    "    #         group_dict.pop(\"profile_pic_url\")\n",
    "\n",
    "    return data"
   ]
  },
  {
   "cell_type": "code",
   "execution_count": 7,
   "id": "eb598113-17b8-471c-9c1d-c81246c88bc3",
   "metadata": {},
   "outputs": [
    {
     "name": "stdout",
     "output_type": "stream",
     "text": [
      "[{'createdat': '2024-04-18T16:57:50.700Z', 'gamecode': '2024041816575070046300'}, {'createdat': '2024-03-26T22:03:27.061Z', 'gamecode': '2024032622032706187200'}, {'createdat': '2024-02-03T20:44:47.153Z', 'gamecode': '2024020320444715349700'}, {'createdat': '2024-01-01T01:47:02.404Z', 'gamecode': '2024010101470240472200'}, {'createdat': '2024-01-01T01:36:01.837Z', 'gamecode': '2024010101360183706600'}, {'createdat': '2023-02-11T09:33:38.910Z', 'gamecode': '202302110933389102800'}, {'createdat': '2023-02-11T08:50:50.268Z', 'gamecode': '2023021108505026898600'}, {'createdat': '2023-02-10T05:22:46.585Z', 'gamecode': '2023021005224658535700'}, {'createdat': '2023-02-09T07:30:25.359Z', 'gamecode': '2023020907302535944300'}, {'createdat': '2023-02-09T07:29:48.089Z', 'gamecode': '202302090729480895100'}, {'createdat': '2023-02-09T06:41:08.288Z', 'gamecode': '2023020906410828831100'}, {'createdat': '2023-02-09T06:33:11.618Z', 'gamecode': '2023020906331161814500'}, {'createdat': '2023-02-09T06:25:02.956Z', 'gamecode': '2023020906250295680500'}, {'createdat': '2023-02-09T06:11:04.109Z', 'gamecode': '2023020906110410991400'}, {'createdat': '2023-02-08T21:18:00.118Z', 'gamecode': '2023020821180011847200'}, {'createdat': '2023-02-08T20:56:22.279Z', 'gamecode': '2023020820562227961600'}, {'createdat': '2023-02-08T05:54:40.018Z', 'gamecode': '2023020805544001850800'}]\n"
     ]
    }
   ],
   "source": [
    "result = get_players_scores('123456')\n",
    "print(result)"
   ]
  },
  {
   "cell_type": "code",
   "execution_count": null,
   "id": "d078d0e6-1f26-4aa2-9cb8-52531d16efdf",
   "metadata": {},
   "outputs": [],
   "source": []
  },
  {
   "cell_type": "code",
   "execution_count": null,
   "id": "01cd4a8f-e092-4dea-9137-d8ad748be692",
   "metadata": {},
   "outputs": [],
   "source": []
  },
  {
   "cell_type": "code",
   "execution_count": 8,
   "id": "43750896-be87-4a24-bc88-60e1a0bc5743",
   "metadata": {
    "id": "Qdcr69QZoFJm"
   },
   "outputs": [],
   "source": [
    "from pydantic import BaseModel, Field\n",
    "\n",
    "class AdminGameListInput(BaseModel):\n",
    "    \"\"\"Input for admin game code.\"\"\"\n",
    "\n",
    "    gamecode: str = Field(..., gamecode=\"Admin code to retrive list of game codes\")\n"
   ]
  },
  {
   "cell_type": "code",
   "execution_count": 9,
   "id": "13faf9b9-ac46-482c-9553-b1893d856993",
   "metadata": {},
   "outputs": [],
   "source": [
    "import os\n",
    "import requests\n",
    "import json\n",
    "from langchain.agents import Tool\n",
    "from langchain.tools import BaseTool\n",
    "from typing import Optional, Type\n",
    "\n",
    "class AdminGameListTool(BaseTool):\n",
    "    name = \"Get all games created by the Game administrator\"\n",
    "    description = \"Useful for when you need to get a list of all game codes created by the Game administrator from the online game DictionaryGame.net webgame\"\n",
    "\n",
    "    def _run(self, admin_code: str):\n",
    "        \n",
    "        def get_game_list(admin_code: str):            \n",
    "            api_endpoint = f\"https://dictionarygame-api.azurewebsites.net/admin/{admin_code}/games\"            \n",
    "            response = requests.get(api_endpoint)\n",
    "            \n",
    "            if response.status_code == 404:\n",
    "                return \"\"\n",
    "                \n",
    "            # data = response.json()\n",
    "            return response.json()        \n",
    "\n",
    "        return get_game_list(admin_code)\n",
    "        \n",
    "    def _arun(self, admin_code: str):\n",
    "        raise NotImplementedError(\"This tool does not support async\")\n",
    "\n",
    "    args_schema: Optional[Type[BaseModel]] = AdminGameListInput\n",
    "\n",
    "admin_gamelist_getter = AdminGameListTool()"
   ]
  },
  {
   "cell_type": "code",
   "execution_count": 10,
   "id": "b4a1b245-8d46-4706-96fe-96e2a60aa0df",
   "metadata": {},
   "outputs": [],
   "source": [
    "from pydantic import BaseModel\n",
    "from typing import Dict, List\n",
    "\n",
    "# class GameScoreModel(BaseModel):\n",
    "#     gameScore: Dict[str, str]\n",
    "\n",
    "class GameScoreItem(BaseModel):\n",
    "    playername: str\n",
    "    score: str\n",
    "    \n",
    "class Model(BaseModel):\n",
    "    gameScore: List[GameScoreItem]\n"
   ]
  },
  {
   "cell_type": "code",
   "execution_count": null,
   "id": "e6692079-b51c-4150-a994-389ae49bc632",
   "metadata": {},
   "outputs": [],
   "source": []
  },
  {
   "cell_type": "code",
   "execution_count": 11,
   "id": "8bc2c345-ee3b-40d0-b07f-3c4e57f6b9ad",
   "metadata": {
    "id": "Qdcr69QZoFJm"
   },
   "outputs": [],
   "source": [
    "from pydantic import BaseModel, Field\n",
    "\n",
    "class PlayersScoresInput(BaseModel):\n",
    "    \"\"\"Input for game code check.\"\"\"\n",
    "\n",
    "    gamecode: str = Field(..., gamecode=\"The game code to get the players scores of the game\")\n"
   ]
  },
  {
   "cell_type": "code",
   "execution_count": 12,
   "id": "9559663e-165d-4859-ac2f-87e727fedbc9",
   "metadata": {},
   "outputs": [],
   "source": [
    "import os\n",
    "import json\n",
    "import requests\n",
    "from langchain.agents import Tool\n",
    "from langchain.tools import BaseTool\n",
    "from pydantic import ValidationError\n",
    "\n",
    "class PlayersScoresTool(BaseTool):\n",
    "    name = \"Get Players Scores\"\n",
    "    description = \"Useful for when you need to get a list of Players Scores from the online game DictionaryGame.net webgame\"\n",
    "\n",
    "    def _run(self, game_code: str):\n",
    "        \n",
    "        def get_players_scores(game_code: str):            \n",
    "            api_endpoint = f\"https://dictionarygame-api.azurewebsites.net/gamestatus/{game_code}/allgameresults\"        \n",
    "            \n",
    "            response = requests.get(api_endpoint)\n",
    "            \n",
    "            if response.status_code == 404:\n",
    "                return \"\"\n",
    "                \n",
    "            data = response.json()\n",
    "            data = {\n",
    "                k: v\n",
    "                for k, v in data.items()\n",
    "                if v not in ([], \"\", \"\", None)\n",
    "                and k in [\"gameScore\"]\n",
    "            }        \n",
    "            # return data\n",
    "\n",
    "            # print(response.json())\n",
    "            \n",
    "            try:\n",
    "                # Attempt to parse the response JSON into the Pydantic model\n",
    "                # game_score_data = GameScoreModel(**response.json())\n",
    "                # game_score_data = Model(**data)\n",
    "                # return game_score_data.gameScore\n",
    "                return json.dumps(data)\n",
    "            except ValidationError as e:\n",
    "                # Handle validation errors here (e.g., log or raise an exception)\n",
    "                print(f\"Validation error: {e}\")\n",
    "                return {}        \n",
    "\n",
    "        return get_players_scores(game_code)\n",
    "        \n",
    "    def _arun(self, game_code: str):\n",
    "        raise NotImplementedError(\"This tool does not support async\")\n",
    "\n",
    "    args_schema: Optional[Type[BaseModel]] = PlayersScoresInput\n",
    "    \n",
    "\n",
    "players_scores_getter = PlayersScoresTool()"
   ]
  },
  {
   "cell_type": "code",
   "execution_count": 13,
   "id": "0857560e-fbff-4f45-8bea-c104a2c4063b",
   "metadata": {},
   "outputs": [
    {
     "name": "stdout",
     "output_type": "stream",
     "text": [
      "{\"gameScore\": [{\"playername\": \"Keyla\", \"score\": \"90\"}, {\"playername\": \"Fred\", \"score\": \"50\"}, {\"playername\": \"Lucas\", \"score\": \"50\"}]}\n"
     ]
    }
   ],
   "source": [
    "result = players_scores_getter._run('2023021005224658535700')\n",
    "print(result)"
   ]
  },
  {
   "cell_type": "code",
   "execution_count": 54,
   "id": "fb8bde6b-3a47-4f47-a959-aa9ef55e35d9",
   "metadata": {},
   "outputs": [],
   "source": [
    "# # Set up the turbo LLM\n",
    "# turbo_llm = ChatOpenAI(\n",
    "#     temperature=0,\n",
    "#     model_name='gpt-3.5-turbo'\n",
    "# )"
   ]
  },
  {
   "cell_type": "code",
   "execution_count": 14,
   "id": "c372222e-e950-4d6d-932f-113e1733107d",
   "metadata": {},
   "outputs": [],
   "source": [
    "MODEL_PATH = 'mistral-7b-instruct-v0.2.Q4_K_M.gguf'  "
   ]
  },
  {
   "cell_type": "code",
   "execution_count": 15,
   "id": "fc19d243-cfd0-4b74-aa1d-2a6d5e242604",
   "metadata": {},
   "outputs": [],
   "source": [
    "config = {\n",
    "    \"max_new_tokens\": 2048,\n",
    "    \"context_length\": 4096,\n",
    "    \"repetition_penalty\": 1.1,\n",
    "    \"temperature\": 0.5,\n",
    "    \"top_k\": 50,\n",
    "    \"top_p\": 0.9,\n",
    "    \"stream\": True,\n",
    "    \"threads\": int(os.cpu_count() / 2)\n",
    "}"
   ]
  },
  {
   "cell_type": "code",
   "execution_count": 16,
   "id": "8094bc72-8883-4779-b4bd-39ee1abe9ccf",
   "metadata": {},
   "outputs": [],
   "source": [
    "llm = CTransformers(model=MODEL_PATH, config=config)"
   ]
  },
  {
   "cell_type": "code",
   "execution_count": 21,
   "id": "945a4e73-3900-4a27-9b4c-1a0e97df4e94",
   "metadata": {},
   "outputs": [
    {
     "name": "stderr",
     "output_type": "stream",
     "text": [
      "/home/fredsena/FredCodes/GIT/fred_env/lib/python3.9/site-packages/langchain_core/_api/deprecation.py:117: LangChainDeprecationWarning: The function `initialize_agent` was deprecated in LangChain 0.1.0 and will be removed in 0.2.0. Use Use new agent constructor methods like create_react_agent, create_json_agent, create_structured_chat_agent, etc. instead.\n",
      "  warn_deprecated(\n"
     ]
    }
   ],
   "source": [
    "from langchain.agents import AgentType, initialize_agent\n",
    "from langchain.prompts.chat import SystemMessagePromptTemplate\n",
    "from langchain.chains.conversation.memory import ConversationBufferWindowMemory\n",
    "\n",
    "# conversational agent memory\n",
    "memory = ConversationBufferWindowMemory(\n",
    "    memory_key='chat_history',\n",
    "    k=3,\n",
    "    return_messages=True\n",
    ")\n",
    "\n",
    "tools = [admin_gamelist_getter, players_scores_getter, multiply_tool_getter]\n",
    "\n",
    "# tools = [players_scores_getter]\n",
    "\n",
    "conversational_agent = initialize_agent(\n",
    "    agent='chat-conversational-react-description',\n",
    "    # agent='openai-multi-functions',\n",
    "    tools=tools,\n",
    "    llm=llm,\n",
    "    verbose=True,\n",
    "    max_iterations=3,\n",
    "    memory=memory,\n",
    "    # agent_type=AgentType.CHAT_CONVERSATIONAL_REACT_DESCRIPTION\n",
    ")"
   ]
  },
  {
   "cell_type": "code",
   "execution_count": 22,
   "id": "7c5f1f4e-6d7e-41dc-875a-53294597bc7f",
   "metadata": {
    "id": "xuCF3bzDsLUv"
   },
   "outputs": [],
   "source": [
    "fixed_prompt = '''You are an Assistant designed to be able to assist with a specific range of tasks, from answering simple questions to providing explanations and discussions on a specific and limited range of topics. As a language model, Assistant is able to generate human-like text based on the input it receives, allowing it to engage in natural-sounding conversations and provide responses that are coherent and relevant to the topic at hand.\n",
    "Assistant should use the available tools for questions about these topics. If the tool does not returns data, just say that information was not found.\n",
    "Assistant is constantly learning and improving, and its capabilities are constantly evolving. It is able to process and understand large amounts of text, and can use this knowledge to provide accurate and informative responses to a specific and limited range of questions. \n",
    "Overall, Assistant is a powerful system that can help with a wide range of tasks and provide valuable insights and information on a specific range of topics. Whether you need help with a specific question or just want to have a information about a particular topic, Assistant is here to assist.'''\n"
   ]
  },
  {
   "cell_type": "code",
   "execution_count": 23,
   "id": "799e76c4-0c46-4261-b568-33dbef385753",
   "metadata": {
    "id": "73bfcbb6"
   },
   "outputs": [],
   "source": [
    "from langchain.chains.conversation.memory import ConversationBufferWindowMemory"
   ]
  },
  {
   "cell_type": "code",
   "execution_count": 24,
   "id": "44752a70-e90d-4b0a-8526-c707cb9a96f4",
   "metadata": {
    "id": "zZBP6l2EsIT5"
   },
   "outputs": [],
   "source": [
    "conversational_agent.agent.llm_chain.prompt.messages[0].prompt.template = fixed_prompt"
   ]
  },
  {
   "cell_type": "code",
   "execution_count": 25,
   "id": "7ef6b9f8-44c3-4076-8659-5687d450412d",
   "metadata": {},
   "outputs": [
    {
     "name": "stderr",
     "output_type": "stream",
     "text": [
      "/home/fredsena/FredCodes/GIT/fred_env/lib/python3.9/site-packages/langchain_core/_api/deprecation.py:117: LangChainDeprecationWarning: The function `__call__` was deprecated in LangChain 0.1.0 and will be removed in 0.2.0. Use invoke instead.\n",
      "  warn_deprecated(\n"
     ]
    },
    {
     "name": "stdout",
     "output_type": "stream",
     "text": [
      "\n",
      "\n",
      "\u001b[1m> Entering new AgentExecutor chain...\u001b[0m\n",
      "\u001b[32;1m\u001b[1;3m.\n",
      "\n",
      "```json\n",
      "{\n",
      "    \"action\": \"Get Players Scores\",\n",
      "    \"action_input\": \"2023021005224658535700\"\n",
      "}\n",
      "```\u001b[0m\n",
      "Observation: \u001b[33;1m\u001b[1;3m{\"gameScore\": [{\"playername\": \"Keyla\", \"score\": \"90\"}, {\"playername\": \"Fred\", \"score\": \"50\"}, {\"playername\": \"Lucas\", \"score\": \"50\"}]}\u001b[0m\n",
      "Thought:\u001b[32;1m\u001b[1;3m\n",
      "\n",
      "AI: The player named Keyla won the game with a score of 900 (90 multiplied by 10).\n",
      "\n",
      "```json\n",
      "{\n",
      "    \"action\": \"Final Answer\",\n",
      "    \"action_input\": \"The player named Keyla won the game with a score of 900.\"\n",
      "}\n",
      "```\n",
      "Confidence: 95%\u001b[0m\n",
      "\n",
      "\u001b[1m> Finished chain.\u001b[0m\n"
     ]
    },
    {
     "data": {
      "text/plain": [
       "{'input': 'who won the game number: 2023021005224658535700? return only the name of the player and multiply the score by 10',\n",
       " 'chat_history': [],\n",
       " 'output': 'The player named Keyla won the game with a score of 900.'}"
      ]
     },
     "execution_count": 25,
     "metadata": {},
     "output_type": "execute_result"
    }
   ],
   "source": [
    "conversational_agent(\"who won the game number: 2023021005224658535700? return only the name of the player and multiply the score by 10\")"
   ]
  },
  {
   "cell_type": "code",
   "execution_count": null,
   "id": "90e9b18e-4771-496a-8051-587139170664",
   "metadata": {},
   "outputs": [],
   "source": [
    "conversational_agent(\"based on the admin code: 9440341601894424 return the data, then search based on gamecode data who won each game\")"
   ]
  },
  {
   "cell_type": "code",
   "execution_count": null,
   "id": "009c1444-fb31-4b2a-91be-58d782f2731c",
   "metadata": {},
   "outputs": [],
   "source": [
    "conversational_agent(\"game number: 2023021005224658535700? return only the name of the player and multiply the score by 10\")"
   ]
  }
 ],
 "metadata": {
  "kernelspec": {
   "display_name": "Python 3 (ipykernel)",
   "language": "python",
   "name": "python3"
  },
  "language_info": {
   "codemirror_mode": {
    "name": "ipython",
    "version": 3
   },
   "file_extension": ".py",
   "mimetype": "text/x-python",
   "name": "python",
   "nbconvert_exporter": "python",
   "pygments_lexer": "ipython3",
   "version": "3.9.19"
  }
 },
 "nbformat": 4,
 "nbformat_minor": 5
}
