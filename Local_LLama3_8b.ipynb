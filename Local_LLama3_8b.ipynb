{
 "cells": [
  {
   "cell_type": "code",
   "execution_count": 1,
   "id": "c2c0f932-ac0d-4fcf-8eee-376d2c362d98",
   "metadata": {},
   "outputs": [],
   "source": [
    "import os\n",
    "import torch\n",
    "import transformers\n",
    "from transformers import AutoTokenizer\n",
    "from pydantic import BaseModel, Field\n",
    "from typing import Type, Optional\n",
    "import json\n",
    "from langchain.llms import CTransformers\n",
    "from langchain import PromptTemplate, LLMChain"
   ]
  },
  {
   "cell_type": "code",
   "execution_count": 2,
   "id": "69d5d34d-12fd-41bd-ac2e-1f399af78dfe",
   "metadata": {},
   "outputs": [],
   "source": [
    "import transformers\n",
    "import torch\n",
    "from transformers import AutoModelForCausalLM, AutoTokenizer"
   ]
  },
  {
   "cell_type": "code",
   "execution_count": 14,
   "id": "b618afca-6dd3-4e66-8c7f-a9979b15a858",
   "metadata": {},
   "outputs": [
    {
     "name": "stdout",
     "output_type": "stream",
     "text": [
      "Consider using `hf_transfer` for faster downloads. This solution comes with some limitations. See https://huggingface.co/docs/huggingface_hub/hf_transfer for more details.\n",
      "downloading https://huggingface.co/bartowski/Meta-Llama-3-8B-Instruct-GGUF/resolve/main/Meta-Llama-3-8B-Instruct-Q6_K.gguf to /home/fredsena/.cache/huggingface/hub/tmp38hltyd9\n",
      "Meta-Llama-3-8B-Instruct-Q6_K.gguf: 100%|██| 6.60G/6.60G [09:33<00:00, 11.5MB/s]\n",
      "./Meta-Llama-3-8B-Instruct-Q6_K.gguf\n"
     ]
    }
   ],
   "source": [
    "# ! huggingface-cli download QuantFactory/Meta-Llama-3-8B-Instruct-GGUF Meta-Llama-3-8B-Instruct.Q5_K_M.gguf --local-dir . --local-dir-use-symlinks False\n",
    "\n",
    "! huggingface-cli download bartowski/Meta-Llama-3-8B-Instruct-GGUF Meta-Llama-3-8B-Instruct-Q6_K.gguf --local-dir . --local-dir-use-symlinks False\n"
   ]
  },
  {
   "cell_type": "code",
   "execution_count": 9,
   "id": "92e92714-1880-4945-9b39-94aafdf2bf8e",
   "metadata": {},
   "outputs": [],
   "source": [
    "# Meta-Llama-3-8B-Instruct.Q5_K_M.gguf"
   ]
  },
  {
   "cell_type": "code",
   "execution_count": 1,
   "id": "17b5eff3-52b1-4865-b653-453d1b15c0d1",
   "metadata": {},
   "outputs": [],
   "source": [
    "# from langchain import PromptTemplate, HuggingFaceHub, LLMChain\n",
    "\n",
    "# template = \"\"\"Question: {question}\n",
    "\n",
    "# Answer: Let's think step by step.\"\"\"\n",
    "\n",
    "# prompt = PromptTemplate(template=template, input_variables=[\"question\"])"
   ]
  },
  {
   "cell_type": "code",
   "execution_count": null,
   "id": "4d945ef0-a496-4146-93d7-b1e7c284fd61",
   "metadata": {},
   "outputs": [],
   "source": [
    "# question = \"What is the difference between capitalism and socialism?\"\n",
    "# print(llm_chain.run(question))"
   ]
  },
  {
   "cell_type": "code",
   "execution_count": 7,
   "id": "56657c74-9d6b-45e0-a2fc-2e9ec2c8249a",
   "metadata": {},
   "outputs": [],
   "source": [
    "from langchain_community.llms import LlamaCpp\n",
    "from langchain_core.callbacks import CallbackManager, StreamingStdOutCallbackHandler\n",
    "from langchain_core.prompts import PromptTemplate"
   ]
  },
  {
   "cell_type": "code",
   "execution_count": 6,
   "id": "29143651-0c82-407e-9dca-1cffe1feef93",
   "metadata": {},
   "outputs": [],
   "source": [
    "# ! pip install llama-cpp-python"
   ]
  },
  {
   "cell_type": "code",
   "execution_count": 8,
   "id": "c805b372-a7ab-45e6-a3c0-956941933d36",
   "metadata": {},
   "outputs": [],
   "source": [
    "template = \"\"\"Question: {question}\n",
    "\n",
    "Answer: Let's work this out in a step by step way to be sure we have the right answer.\"\"\"\n",
    "\n",
    "prompt = PromptTemplate.from_template(template)"
   ]
  },
  {
   "cell_type": "code",
   "execution_count": 9,
   "id": "ff81151c-e31e-4c71-94b8-cbc544d17805",
   "metadata": {},
   "outputs": [],
   "source": [
    "# Callbacks support token-wise streaming\n",
    "callback_manager = CallbackManager([StreamingStdOutCallbackHandler()])"
   ]
  },
  {
   "cell_type": "code",
   "execution_count": null,
   "id": "221bc374-aee7-4f6e-81fa-70ff8fe12510",
   "metadata": {},
   "outputs": [],
   "source": [
    "# Make sure the model path is correct for your system!\n",
    "llm = LlamaCpp(\n",
    "    # model_path=\"mistral-7b-instruct-v0.2.Q4_K_M.gguf\",\n",
    "    model_path=\"Meta-Llama-3-8B-Instruct-Q6_K.gguf\",    \n",
    "    temperature=0.75,\n",
    "    max_tokens=2000,\n",
    "    top_p=1,\n",
    "    callback_manager=callback_manager,\n",
    "    verbose=True,  # Verbose is required to pass to the callback manager\n",
    ")"
   ]
  },
  {
   "cell_type": "code",
   "execution_count": 16,
   "id": "dd663b37-604c-40d0-8a2f-7bbca85eab96",
   "metadata": {},
   "outputs": [
    {
     "name": "stdout",
     "output_type": "stream",
     "text": [
      "A. Capitalism emphasizes public ownership, while socialism emphasizes private enterprise.\n",
      "B. Capitalism emphasizes individual rights and freedoms, while socialism emphasizes collective ownership and control.\n",
      "C. Capitalism emphasizes economic growth and development, while socialism emphasizes social welfare and equality.\n",
      "D. Capitalism emphasizes competition and free markets, while socialism emphasizes government intervention and regulation.\n",
      "\n",
      "Answer: B. Capitalism emphasizes individual rights and freedoms, while socialism emphasizes collective ownership and control. This is the main difference between capitalism and socialism. While both ideologies have their own strengths and weaknesses, the core principle of individual freedom vs. collective ownership drives the fundamental differences between capitalism and socialism."
     ]
    },
    {
     "name": "stderr",
     "output_type": "stream",
     "text": [
      "\n",
      "llama_print_timings:        load time =     531.93 ms\n",
      "llama_print_timings:      sample time =     126.31 ms /   128 runs   (    0.99 ms per token,  1013.41 tokens per second)\n",
      "llama_print_timings: prompt eval time =     832.06 ms /    14 tokens (   59.43 ms per token,    16.83 tokens per second)\n",
      "llama_print_timings:        eval time =   24909.26 ms /   127 runs   (  196.14 ms per token,     5.10 tokens per second)\n",
      "llama_print_timings:       total time =   26800.26 ms /   141 tokens\n"
     ]
    },
    {
     "data": {
      "text/plain": [
       "'A. Capitalism emphasizes public ownership, while socialism emphasizes private enterprise.\\nB. Capitalism emphasizes individual rights and freedoms, while socialism emphasizes collective ownership and control.\\nC. Capitalism emphasizes economic growth and development, while socialism emphasizes social welfare and equality.\\nD. Capitalism emphasizes competition and free markets, while socialism emphasizes government intervention and regulation.\\n\\nAnswer: B. Capitalism emphasizes individual rights and freedoms, while socialism emphasizes collective ownership and control. This is the main difference between capitalism and socialism. While both ideologies have their own strengths and weaknesses, the core principle of individual freedom vs. collective ownership drives the fundamental differences between capitalism and socialism.'"
      ]
     },
     "execution_count": 16,
     "metadata": {},
     "output_type": "execute_result"
    }
   ],
   "source": [
    "question = \"\"\"\n",
    "Question: What is the difference between capitalism and socialism? \n",
    "\"\"\"\n",
    "llm.invoke(question)"
   ]
  },
  {
   "cell_type": "code",
   "execution_count": null,
   "id": "4fdee429-f3de-4e14-aaa3-3299a6cc9eef",
   "metadata": {},
   "outputs": [],
   "source": []
  }
 ],
 "metadata": {
  "kernelspec": {
   "display_name": "Python 3 (ipykernel)",
   "language": "python",
   "name": "python3"
  },
  "language_info": {
   "codemirror_mode": {
    "name": "ipython",
    "version": 3
   },
   "file_extension": ".py",
   "mimetype": "text/x-python",
   "name": "python",
   "nbconvert_exporter": "python",
   "pygments_lexer": "ipython3",
   "version": "3.9.19"
  }
 },
 "nbformat": 4,
 "nbformat_minor": 5
}
