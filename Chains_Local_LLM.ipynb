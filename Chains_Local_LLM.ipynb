{
 "cells": [
  {
   "cell_type": "markdown",
   "id": "52824b89-532a-4e54-87e9-1410813cd39e",
   "metadata": {},
   "source": [
    "# Chains in LangChain\n",
    "\n",
    "## Outline\n",
    "\n",
    "* LLMChain\n",
    "* Sequential Chains\n",
    "  * SimpleSequentialChain\n",
    "  * SequentialChain\n",
    "* Router Chain"
   ]
  },
  {
   "cell_type": "code",
   "execution_count": 58,
   "id": "b7ed03ed-1322-49e3-b2a2-33e94fb592ef",
   "metadata": {
    "tags": []
   },
   "outputs": [],
   "source": [
    "from dotenv import load_dotenv, find_dotenv\n",
    "_ = load_dotenv(find_dotenv()) # read local .env file"
   ]
  },
  {
   "cell_type": "markdown",
   "id": "9f3b61a3-92eb-4891-90ee-1d10607b05ad",
   "metadata": {},
   "source": [
    "Note: LLM's do not always produce the same results. When executing the code in your notebook, you may get slightly different answers that those in the video."
   ]
  },
  {
   "cell_type": "code",
   "execution_count": null,
   "id": "b84e441b",
   "metadata": {
    "tags": []
   },
   "outputs": [],
   "source": [
    "#!pip install pandas"
   ]
  },
  {
   "cell_type": "code",
   "execution_count": 31,
   "id": "974acf8e-8f88-42de-88f8-40a82cb58e8b",
   "metadata": {
    "tags": []
   },
   "outputs": [],
   "source": [
    "import pandas as pd\n",
    "df = pd.read_csv('Data.csv')"
   ]
  },
  {
   "cell_type": "code",
   "execution_count": 32,
   "id": "b7a09c35",
   "metadata": {
    "tags": []
   },
   "outputs": [
    {
     "data": {
      "text/html": [
       "<div>\n",
       "<style scoped>\n",
       "    .dataframe tbody tr th:only-of-type {\n",
       "        vertical-align: middle;\n",
       "    }\n",
       "\n",
       "    .dataframe tbody tr th {\n",
       "        vertical-align: top;\n",
       "    }\n",
       "\n",
       "    .dataframe thead th {\n",
       "        text-align: right;\n",
       "    }\n",
       "</style>\n",
       "<table border=\"1\" class=\"dataframe\">\n",
       "  <thead>\n",
       "    <tr style=\"text-align: right;\">\n",
       "      <th></th>\n",
       "      <th>Product</th>\n",
       "      <th>Review</th>\n",
       "    </tr>\n",
       "  </thead>\n",
       "  <tbody>\n",
       "    <tr>\n",
       "      <th>0</th>\n",
       "      <td>Queen Size Sheet Set</td>\n",
       "      <td>I ordered a king size set. My only criticism w...</td>\n",
       "    </tr>\n",
       "    <tr>\n",
       "      <th>1</th>\n",
       "      <td>Waterproof Phone Pouch</td>\n",
       "      <td>I loved the waterproof sac, although the openi...</td>\n",
       "    </tr>\n",
       "    <tr>\n",
       "      <th>2</th>\n",
       "      <td>Luxury Air Mattress</td>\n",
       "      <td>This mattress had a small hole in the top of i...</td>\n",
       "    </tr>\n",
       "    <tr>\n",
       "      <th>3</th>\n",
       "      <td>Pillows Insert</td>\n",
       "      <td>This is the best throw pillow fillers on Amazo...</td>\n",
       "    </tr>\n",
       "    <tr>\n",
       "      <th>4</th>\n",
       "      <td>Milk Frother Handheld\\n</td>\n",
       "      <td>I loved this product. But they only seem to l...</td>\n",
       "    </tr>\n",
       "  </tbody>\n",
       "</table>\n",
       "</div>"
      ],
      "text/plain": [
       "                   Product                                             Review\n",
       "0     Queen Size Sheet Set  I ordered a king size set. My only criticism w...\n",
       "1   Waterproof Phone Pouch  I loved the waterproof sac, although the openi...\n",
       "2      Luxury Air Mattress  This mattress had a small hole in the top of i...\n",
       "3           Pillows Insert  This is the best throw pillow fillers on Amazo...\n",
       "4  Milk Frother Handheld\\n   I loved this product. But they only seem to l..."
      ]
     },
     "execution_count": 32,
     "metadata": {},
     "output_type": "execute_result"
    }
   ],
   "source": [
    "df.head()"
   ]
  },
  {
   "cell_type": "markdown",
   "id": "b940ce7c",
   "metadata": {},
   "source": [
    "## LLMChain"
   ]
  },
  {
   "cell_type": "code",
   "execution_count": 81,
   "id": "e92dff22",
   "metadata": {
    "tags": []
   },
   "outputs": [],
   "source": [
    "import os\n",
    "from langchain.llms import CTransformers\n",
    "from langchain.chat_models import ChatOpenAI\n",
    "from langchain.prompts import ChatPromptTemplate\n",
    "from langchain.chains import LLMChain\n",
    "from langchain_core.callbacks import CallbackManager, StreamingStdOutCallbackHandler\n",
    "from langchain_community.llms import LlamaCpp"
   ]
  },
  {
   "cell_type": "code",
   "execution_count": 82,
   "id": "4fdb2167-c729-44fa-862e-9ff73c840fa7",
   "metadata": {},
   "outputs": [],
   "source": [
    "MODEL_PATH = 'mistral-7b-instruct-v0.2.Q4_K_M.gguf'\n",
    "\n",
    "config = {\n",
    "    \"max_new_tokens\": 2048,\n",
    "    \"context_length\": 4096,\n",
    "    \"repetition_penalty\": 1.1,\n",
    "    \"temperature\": 0.5,\n",
    "    \"top_k\": 50,\n",
    "    \"top_p\": 0.9,\n",
    "    \"stream\": True,\n",
    "    \"threads\": int(os.cpu_count() / 2)\n",
    "}"
   ]
  },
  {
   "cell_type": "code",
   "execution_count": 83,
   "id": "cd79e711-d2c1-41bf-9d22-ec244b34e444",
   "metadata": {},
   "outputs": [],
   "source": [
    "callback_manager = CallbackManager([StreamingStdOutCallbackHandler()])"
   ]
  },
  {
   "cell_type": "code",
   "execution_count": 84,
   "id": "df9c45ae-f360-4956-85c0-558f9af79ce3",
   "metadata": {},
   "outputs": [],
   "source": [
    "llm = CTransformers(model=MODEL_PATH, config=config, callback_manager=callback_manager)"
   ]
  },
  {
   "cell_type": "code",
   "execution_count": null,
   "id": "e4ae0da6-bdef-4d62-8662-6a91229765c4",
   "metadata": {},
   "outputs": [],
   "source": [
    "# llm = LlamaCpp(\n",
    "#     model_path=\"mistral-7b-instruct-v0.2.Q4_K_M.gguf\",\n",
    "#     # model_path=\"Meta-Llama-3-8B-Instruct-Q6_K.gguf\",    \n",
    "#     temperature=0.50,\n",
    "#     max_tokens=2000,\n",
    "#     top_p=1,\n",
    "#     callback_manager=callback_manager,\n",
    "#     verbose=True,  # Verbose is required to pass to the callback manager\n",
    "# )"
   ]
  },
  {
   "cell_type": "code",
   "execution_count": 103,
   "id": "cdcdb42d",
   "metadata": {
    "tags": []
   },
   "outputs": [],
   "source": [
    "prompt = ChatPromptTemplate.from_template(\n",
    "    \"What is the best name to describe \\\n",
    "    a company that makes {product}?\"\n",
    ")"
   ]
  },
  {
   "cell_type": "code",
   "execution_count": 104,
   "id": "d7abc20b",
   "metadata": {
    "tags": []
   },
   "outputs": [],
   "source": [
    "chain = LLMChain(llm=llm, prompt=prompt)"
   ]
  },
  {
   "cell_type": "code",
   "execution_count": 105,
   "id": "ad44d1fb",
   "metadata": {
    "tags": []
   },
   "outputs": [
    {
     "name": "stdout",
     "output_type": "stream",
     "text": [
      "\n",
      "\n",
      "A: A company that specializes in producing and selling queen size sheet sets can be named as follows:\n",
      "\n",
      "1. QueenBedLinens Co.\n",
      "2. MonarchSheets Inc.\n",
      "3. RegalRestCo.\n",
      "4. GrandeBedding Co.\n",
      "5. RoyalSlumber LLC.\n",
      "6. MajesticSheets Factory.\n",
      "7. PalaceLinen Corporation.\n",
      "8. PremiumQueenBeddings.\n",
      "9. EliteSheetMakers.\n",
      "10. LuxeQueenLinens Ltd.\n",
      "\n",
      "These names reflect the product line (queen size sheets) and evoke a sense of luxury or exclusivity that consumers often associate with high-quality bedding products."
     ]
    },
    {
     "data": {
      "text/plain": [
       "'\\n\\nA: A company that specializes in producing and selling queen size sheet sets can be named as follows:\\n\\n1. QueenBedLinens Co.\\n2. MonarchSheets Inc.\\n3. RegalRestCo.\\n4. GrandeBedding Co.\\n5. RoyalSlumber LLC.\\n6. MajesticSheets Factory.\\n7. PalaceLinen Corporation.\\n8. PremiumQueenBeddings.\\n9. EliteSheetMakers.\\n10. LuxeQueenLinens Ltd.\\n\\nThese names reflect the product line (queen size sheets) and evoke a sense of luxury or exclusivity that consumers often associate with high-quality bedding products.'"
      ]
     },
     "execution_count": 105,
     "metadata": {},
     "output_type": "execute_result"
    }
   ],
   "source": [
    "product = \"Queen Size Sheet Set\"\n",
    "chain.run(product)"
   ]
  },
  {
   "cell_type": "markdown",
   "id": "69b03469",
   "metadata": {},
   "source": [
    "## SimpleSequentialChain"
   ]
  },
  {
   "cell_type": "code",
   "execution_count": 106,
   "id": "febee243",
   "metadata": {
    "tags": []
   },
   "outputs": [],
   "source": [
    "from langchain.chains import SimpleSequentialChain"
   ]
  },
  {
   "cell_type": "code",
   "execution_count": 107,
   "id": "2f31aa8a",
   "metadata": {
    "tags": []
   },
   "outputs": [],
   "source": [
    "# prompt template 1\n",
    "first_prompt = ChatPromptTemplate.from_template(\n",
    "    \"What is the best name to describe \\\n",
    "    a company that makes {product}?\"\n",
    ")\n",
    "\n",
    "# Chain 1\n",
    "chain_one = LLMChain(llm=llm, prompt=first_prompt)"
   ]
  },
  {
   "cell_type": "code",
   "execution_count": 108,
   "id": "3f5d5b76",
   "metadata": {
    "tags": []
   },
   "outputs": [],
   "source": [
    "# prompt template 2\n",
    "second_prompt = ChatPromptTemplate.from_template(\n",
    "    \"Write a 20 words description for the following \\\n",
    "    company:{company_name}\"\n",
    ")\n",
    "# chain 2\n",
    "chain_two = LLMChain(llm=llm, prompt=second_prompt)"
   ]
  },
  {
   "cell_type": "code",
   "execution_count": 109,
   "id": "6c1eb2c4",
   "metadata": {
    "tags": []
   },
   "outputs": [],
   "source": [
    "overall_simple_chain = SimpleSequentialChain(\n",
    "    chains=[chain_one, chain_two], \n",
    "    verbose=True\n",
    ")"
   ]
  },
  {
   "cell_type": "code",
   "execution_count": 110,
   "id": "78458efe",
   "metadata": {
    "tags": []
   },
   "outputs": [
    {
     "name": "stdout",
     "output_type": "stream",
     "text": [
      "\n",
      "\n",
      "\u001b[1m> Entering new SimpleSequentialChain chain...\u001b[0m\n",
      "\n",
      "\n",
      "A: A company that specializes in producing and selling queen size sheet sets could be described as follows:\n",
      "\n",
      "1. Queen Size Linen Company\n",
      "2. Comfortable Queen Sheets Producer\n",
      "3. Regal Rest Sheets Manufacturer\n",
      "4. Queen Bedding Solutions\n",
      "5. Monarch Mattress Accessories\n",
      "6. Luxe Queen Sheet Set Provider\n",
      "7. Royal Rest Company\n",
      "8. Grand Queen Linens\n",
      "9. Serene Queen Sheet Maker\n",
      "10. Tranquil Queen Bedding Co.\u001b[36;1m\u001b[1;3m\n",
      "\n",
      "A: A company that specializes in producing and selling queen size sheet sets could be described as follows:\n",
      "\n",
      "1. Queen Size Linen Company\n",
      "2. Comfortable Queen Sheets Producer\n",
      "3. Regal Rest Sheets Manufacturer\n",
      "4. Queen Bedding Solutions\n",
      "5. Monarch Mattress Accessories\n",
      "6. Luxe Queen Sheet Set Provider\n",
      "7. Royal Rest Company\n",
      "8. Grand Queen Linens\n",
      "9. Serene Queen Sheet Maker\n",
      "10. Tranquil Queen Bedding Co.\u001b[0m\n",
      "\n",
      "11. Majestic Queen Sheets Supplier\n",
      "12. Premium Queen Linen Firm\n",
      "13. Noble Queen Sheets Producer\n",
      "14. Dream Queen Linen Supplies\n",
      "15. Elegant Queen Sheet Set Creator\n",
      "16. Opulent Queen Bedding Co.\n",
      "17. Lavish Queen Linens\n",
      "18. Deluxe Queen Sheet Vendor\n",
      "19. Palatial Queen Sheets Manufacturer\n",
      "20. Plush Queen Bedding Emporium\u001b[33;1m\u001b[1;3m\n",
      "11. Majestic Queen Sheets Supplier\n",
      "12. Premium Queen Linen Firm\n",
      "13. Noble Queen Sheets Producer\n",
      "14. Dream Queen Linen Supplies\n",
      "15. Elegant Queen Sheet Set Creator\n",
      "16. Opulent Queen Bedding Co.\n",
      "17. Lavish Queen Linens\n",
      "18. Deluxe Queen Sheet Vendor\n",
      "19. Palatial Queen Sheets Manufacturer\n",
      "20. Plush Queen Bedding Emporium\u001b[0m\n",
      "\n",
      "\u001b[1m> Finished chain.\u001b[0m\n"
     ]
    },
    {
     "data": {
      "text/plain": [
       "'\\n11. Majestic Queen Sheets Supplier\\n12. Premium Queen Linen Firm\\n13. Noble Queen Sheets Producer\\n14. Dream Queen Linen Supplies\\n15. Elegant Queen Sheet Set Creator\\n16. Opulent Queen Bedding Co.\\n17. Lavish Queen Linens\\n18. Deluxe Queen Sheet Vendor\\n19. Palatial Queen Sheets Manufacturer\\n20. Plush Queen Bedding Emporium'"
      ]
     },
     "execution_count": 110,
     "metadata": {},
     "output_type": "execute_result"
    }
   ],
   "source": [
    "overall_simple_chain.run(product)"
   ]
  },
  {
   "cell_type": "markdown",
   "id": "7b5ce18c",
   "metadata": {},
   "source": [
    "## SequentialChain"
   ]
  },
  {
   "cell_type": "code",
   "execution_count": 85,
   "id": "4c129ef6",
   "metadata": {
    "tags": []
   },
   "outputs": [],
   "source": [
    "from langchain.chains import SequentialChain"
   ]
  },
  {
   "cell_type": "code",
   "execution_count": 86,
   "id": "016187ac",
   "metadata": {
    "tags": []
   },
   "outputs": [],
   "source": [
    "# llm = ChatOpenAI(temperature=0.9, model=llm_model)\n",
    "\n",
    "# prompt template 1: translate to english\n",
    "first_prompt = ChatPromptTemplate.from_template(\n",
    "    \"Translate the following review to english:\"\n",
    "    \"\\n\\n{Review}\"\n",
    ")\n",
    "# chain 1: input= Review and output= English_Review\n",
    "chain_one = LLMChain(llm=llm, prompt=first_prompt, output_key=\"English_Review\" )\n"
   ]
  },
  {
   "cell_type": "code",
   "execution_count": 87,
   "id": "0fb0730e",
   "metadata": {
    "tags": []
   },
   "outputs": [],
   "source": [
    "second_prompt = ChatPromptTemplate.from_template(\n",
    "    \"Can you summarize the following review in 1 sentence:\"\n",
    "    \"\\n\\n{English_Review}\"\n",
    ")\n",
    "# chain 2: input= English_Review and output= summary\n",
    "chain_two = LLMChain(llm=llm, prompt=second_prompt, output_key=\"summary\" )\n"
   ]
  },
  {
   "cell_type": "code",
   "execution_count": 88,
   "id": "6accf92d",
   "metadata": {
    "tags": []
   },
   "outputs": [],
   "source": [
    "# prompt template 3: translate to english\n",
    "third_prompt = ChatPromptTemplate.from_template(\n",
    "    \"What language is the following review:\\n\\n{Review}\"\n",
    ")\n",
    "# chain 3: input= Review and output= language\n",
    "chain_three = LLMChain(\n",
    "    llm=llm, \n",
    "    prompt=third_prompt,\n",
    "    output_key=\"language\"\n",
    ")\n"
   ]
  },
  {
   "cell_type": "code",
   "execution_count": 89,
   "id": "c7a46121",
   "metadata": {
    "tags": []
   },
   "outputs": [],
   "source": [
    "\n",
    "# prompt template 4: follow up message\n",
    "fourth_prompt = ChatPromptTemplate.from_template(\n",
    "    \"Write a follow up response to the following \"\n",
    "    \"summary in the specified language:\"\n",
    "    \"\\n\\nSummary: {summary}\\n\\nLanguage: {language}\"\n",
    ")\n",
    "# chain 4: input= summary, language and output= followup_message\n",
    "chain_four = LLMChain(\n",
    "    llm=llm, \n",
    "    prompt=fourth_prompt,\n",
    "    output_key=\"followup_message\"\n",
    ")\n"
   ]
  },
  {
   "cell_type": "code",
   "execution_count": 90,
   "id": "89603117",
   "metadata": {
    "tags": []
   },
   "outputs": [],
   "source": [
    "# overall_chain: input= Review \n",
    "# and output= English_Review,summary, followup_message\n",
    "overall_chain = SequentialChain(\n",
    "    chains=[chain_one, chain_two, chain_three, chain_four],\n",
    "    input_variables=[\"Review\"],\n",
    "    output_variables=[\"English_Review\", \"summary\",\"followup_message\"],\n",
    "    verbose=True\n",
    ")"
   ]
  },
  {
   "cell_type": "code",
   "execution_count": 91,
   "id": "c5d2fa1f-62ac-4211-9ecb-5024f100ad0f",
   "metadata": {
    "tags": []
   },
   "outputs": [
    {
     "data": {
      "text/plain": [
       "\"Je trouve le goût médiocre. La mousse ne tient pas, c'est bizarre. J'achète les mêmes dans le commerce et le goût est bien meilleur...\\nVieux lot ou contrefaçon !?\""
      ]
     },
     "execution_count": 91,
     "metadata": {},
     "output_type": "execute_result"
    }
   ],
   "source": [
    "review = df.Review[5]\n",
    "review"
   ]
  },
  {
   "cell_type": "code",
   "execution_count": 92,
   "id": "7b192ea0-90ee-4353-80b3-42d2fa23e6a0",
   "metadata": {
    "tags": []
   },
   "outputs": [
    {
     "name": "stdout",
     "output_type": "stream",
     "text": [
      "\n",
      "\n",
      "\u001b[1m> Entering new SequentialChain chain...\u001b[0m\n",
      "\n",
      "\n",
      "I find the taste mediocre. The foam doesn't hold up, that's strange. I buy the same ones in the store and the taste is much better... Old batch or counterfeit!?\n",
      "\n",
      "A customer expresses dissatisfaction with the product's taste being mediocre and the poor durability of its foam, suspecting it to be an old or counterfeit batch.\n",
      "\n",
      "This review is in French. The person is expressing that they find the taste mediocre and the mousse doesn't hold up well. They also mention that they buy the same product elsewhere and it tastes better, questioning whether it might be an old batch or a counterfeit.\n",
      "\n",
      "Response: \n",
      "\n",
      "Nous sommes désolés d'apprendre que vous n'êtes pas satisfait de la saveur médiocre et de la faible durée de la mousse de notre produit. Nous comprenons vos inquiétudes quant à l'authenticité ou à une possible livraison hâtive de ce lot, mais nous voulons vous assurer que tous nos lots sont contrôlés et certifiés avant expédition. Si cela est le cas, nous vous invitons à contacter notre service client pour obtenir un remplacement ou un réemballage de votre achat. Nous sommes prêts à travailler avec vous pour résoudre ce problème et assurer que votre expérience fut satisfaisante. Merci d'avoir partagé vos inquiétudes, cela nous permet de continuellement améliorer notre produit.\n",
      "\u001b[1m> Finished chain.\u001b[0m\n"
     ]
    },
    {
     "data": {
      "text/plain": [
       "{'Review': \"Je trouve le goût médiocre. La mousse ne tient pas, c'est bizarre. J'achète les mêmes dans le commerce et le goût est bien meilleur...\\nVieux lot ou contrefaçon !?\",\n",
       " 'English_Review': \"\\n\\nI find the taste mediocre. The foam doesn't hold up, that's strange. I buy the same ones in the store and the taste is much better... Old batch or counterfeit!?\",\n",
       " 'summary': \"\\n\\nA customer expresses dissatisfaction with the product's taste being mediocre and the poor durability of its foam, suspecting it to be an old or counterfeit batch.\",\n",
       " 'followup_message': \"\\n\\nResponse: \\n\\nNous sommes désolés d'apprendre que vous n'êtes pas satisfait de la saveur médiocre et de la faible durée de la mousse de notre produit. Nous comprenons vos inquiétudes quant à l'authenticité ou à une possible livraison hâtive de ce lot, mais nous voulons vous assurer que tous nos lots sont contrôlés et certifiés avant expédition. Si cela est le cas, nous vous invitons à contacter notre service client pour obtenir un remplacement ou un réemballage de votre achat. Nous sommes prêts à travailler avec vous pour résoudre ce problème et assurer que votre expérience fut satisfaisante. Merci d'avoir partagé vos inquiétudes, cela nous permet de continuellement améliorer notre produit.\"}"
      ]
     },
     "execution_count": 92,
     "metadata": {},
     "output_type": "execute_result"
    }
   ],
   "source": [
    "overall_chain(review)"
   ]
  },
  {
   "cell_type": "markdown",
   "id": "3041ea4c",
   "metadata": {},
   "source": [
    "## Router Chain"
   ]
  },
  {
   "cell_type": "code",
   "execution_count": 93,
   "id": "ade83f4f",
   "metadata": {
    "tags": []
   },
   "outputs": [],
   "source": [
    "physics_template = \"\"\"You are a very smart physics professor. \\\n",
    "You are great at answering questions about physics in a concise\\\n",
    "and easy to understand manner. \\\n",
    "When you don't know the answer to a question you admit\\\n",
    "that you don't know.\n",
    "\n",
    "Here is a question:\n",
    "{input}\"\"\"\n",
    "\n",
    "\n",
    "math_template = \"\"\"You are a very good mathematician. \\\n",
    "You are great at answering math questions. \\\n",
    "You are so good because you are able to break down \\\n",
    "hard problems into their component parts, \n",
    "answer the component parts, and then put them together\\\n",
    "to answer the broader question.\n",
    "\n",
    "Here is a question:\n",
    "{input}\"\"\"\n",
    "\n",
    "history_template = \"\"\"You are a very good historian. \\\n",
    "You have an excellent knowledge of and understanding of people,\\\n",
    "events and contexts from a range of historical periods. \\\n",
    "You have the ability to think, reflect, debate, discuss and \\\n",
    "evaluate the past. You have a respect for historical evidence\\\n",
    "and the ability to make use of it to support your explanations \\\n",
    "and judgements.\n",
    "\n",
    "Here is a question:\n",
    "{input}\"\"\"\n",
    "\n",
    "\n",
    "computerscience_template = \"\"\" You are a successful computer scientist.\\\n",
    "You have a passion for creativity, collaboration,\\\n",
    "forward-thinking, confidence, strong problem-solving capabilities,\\\n",
    "understanding of theories and algorithms, and excellent communication \\\n",
    "skills. You are great at answering coding questions. \\\n",
    "You are so good because you know how to solve a problem by \\\n",
    "describing the solution in imperative steps \\\n",
    "that a machine can easily interpret and you know how to \\\n",
    "choose a solution that has a good balance between \\\n",
    "time complexity and space complexity. \n",
    "\n",
    "Here is a question:\n",
    "{input}\"\"\""
   ]
  },
  {
   "cell_type": "code",
   "execution_count": 94,
   "id": "5f590e9f",
   "metadata": {
    "tags": []
   },
   "outputs": [],
   "source": [
    "prompt_infos = [\n",
    "    {\n",
    "        \"name\": \"physics\", \n",
    "        \"description\": \"Good for answering questions about physics\", \n",
    "        \"prompt_template\": physics_template\n",
    "    },\n",
    "    {\n",
    "        \"name\": \"math\", \n",
    "        \"description\": \"Good for answering math questions\", \n",
    "        \"prompt_template\": math_template\n",
    "    },\n",
    "    {\n",
    "        \"name\": \"History\", \n",
    "        \"description\": \"Good for answering history questions\", \n",
    "        \"prompt_template\": history_template\n",
    "    },\n",
    "    {\n",
    "        \"name\": \"computer science\", \n",
    "        \"description\": \"Good for answering computer science questions\", \n",
    "        \"prompt_template\": computerscience_template\n",
    "    }\n",
    "]"
   ]
  },
  {
   "cell_type": "code",
   "execution_count": 95,
   "id": "31b06fc8",
   "metadata": {
    "tags": []
   },
   "outputs": [],
   "source": [
    "from langchain.chains.router import MultiPromptChain\n",
    "from langchain.chains.router.llm_router import LLMRouterChain,RouterOutputParser\n",
    "from langchain.prompts import PromptTemplate"
   ]
  },
  {
   "cell_type": "code",
   "execution_count": 96,
   "id": "8eefec24",
   "metadata": {
    "tags": []
   },
   "outputs": [],
   "source": [
    "\n",
    "destination_chains = {}\n",
    "for p_info in prompt_infos:\n",
    "    name = p_info[\"name\"]\n",
    "    prompt_template = p_info[\"prompt_template\"]\n",
    "    prompt = ChatPromptTemplate.from_template(template=prompt_template)\n",
    "    chain = LLMChain(llm=llm, prompt=prompt)\n",
    "    destination_chains[name] = chain  \n",
    "    \n",
    "destinations = [f\"{p['name']}: {p['description']}\" for p in prompt_infos]\n",
    "destinations_str = \"\\n\".join(destinations)"
   ]
  },
  {
   "cell_type": "code",
   "execution_count": 97,
   "id": "9f98018a",
   "metadata": {
    "tags": []
   },
   "outputs": [],
   "source": [
    "default_prompt = ChatPromptTemplate.from_template(\"{input}\")\n",
    "default_chain = LLMChain(llm=llm, prompt=default_prompt)"
   ]
  },
  {
   "cell_type": "code",
   "execution_count": 98,
   "id": "11b2e2ba",
   "metadata": {
    "tags": []
   },
   "outputs": [],
   "source": [
    "MULTI_PROMPT_ROUTER_TEMPLATE = \"\"\"Given a raw text input to a \\\n",
    "language model select the model prompt best suited for the input. \\\n",
    "You will be given the names of the available prompts and a \\\n",
    "description of what the prompt is best suited for. \\\n",
    "You may also revise the original input if you think that revising\\\n",
    "it will ultimately lead to a better response from the language model.\n",
    "\n",
    "<< FORMATTING >>\n",
    "Return a markdown code snippet with a JSON object formatted to look like:\n",
    "```json\n",
    "{{{{\n",
    "    \"destination\": string \\ name of the prompt to use or \"DEFAULT\"\n",
    "    \"next_inputs\": string \\ a potentially modified version of the original input\n",
    "}}}}\n",
    "```\n",
    "\n",
    "REMEMBER: \"destination\" MUST be one of the candidate prompt \\\n",
    "names specified below OR it can be \"DEFAULT\" if the input is not\\\n",
    "well suited for any of the candidate prompts.\n",
    "REMEMBER: \"next_inputs\" can just be the original input \\\n",
    "if you don't think any modifications are needed.\n",
    "\n",
    "<< CANDIDATE PROMPTS >>\n",
    "{destinations}\n",
    "\n",
    "<< INPUT >>\n",
    "{{input}}\n",
    "\n",
    "<< OUTPUT (remember to include the ```json)>>\"\"\""
   ]
  },
  {
   "cell_type": "code",
   "execution_count": 99,
   "id": "61148b25-b9f3-4f01-a04e-2ece6602808a",
   "metadata": {
    "tags": []
   },
   "outputs": [],
   "source": [
    "router_template = MULTI_PROMPT_ROUTER_TEMPLATE.format(\n",
    "    destinations=destinations_str\n",
    ")\n",
    "router_prompt = PromptTemplate(\n",
    "    template=router_template,\n",
    "    input_variables=[\"input\"],\n",
    "    output_parser=RouterOutputParser(),\n",
    ")"
   ]
  },
  {
   "cell_type": "code",
   "execution_count": 100,
   "id": "56074c10-7b70-4226-8b3e-aa231072a56e",
   "metadata": {
    "tags": []
   },
   "outputs": [],
   "source": [
    "router_chain = LLMRouterChain.from_llm(llm, router_prompt)"
   ]
  },
  {
   "cell_type": "code",
   "execution_count": 101,
   "id": "2fb7d560",
   "metadata": {
    "tags": []
   },
   "outputs": [],
   "source": [
    "chain = MultiPromptChain(router_chain=router_chain, \n",
    "                         destination_chains=destination_chains, \n",
    "                         default_chain=default_chain, verbose=True\n",
    "                        )"
   ]
  },
  {
   "cell_type": "code",
   "execution_count": 102,
   "id": "d86b2131",
   "metadata": {
    "tags": []
   },
   "outputs": [
    {
     "name": "stdout",
     "output_type": "stream",
     "text": [
      "\n",
      "\n",
      "\u001b[1m> Entering new MultiPromptChain chain...\u001b[0m\n",
      "\n",
      "{\n",
      "    \"destination\": \"History\",\n",
      "    \"next_inputs\": \"What is the historical significance of Ireland?\"\n",
      "}\n",
      "```\n",
      "The original input \"What is the story about ireland?\" can be revised to \"What is the historical significance of Ireland?\" in order to better suit the History prompt. This will likely lead to a more accurate and informative response from the language model.History: {'input': 'What is the historical significance of Ireland?'} How has this small island nation shaped the world in various aspects such as politics, economy, culture, and society?\n",
      "\n",
      "A: Ireland, an emerald-shaped island located at the northwestern edge of Europe, has played a significant role in shaping the world throughout history, despite its relatively small size. Ireland's impact can be seen in various domains, including politics, economy, culture, and society.\n",
      "\n",
      "1. Politics: Ireland's political influence began with its strategic location between Europe and North America. Its position made it a valuable asset during the colonial era, as evidenced by England's desire to control Ireland for its proximity to English interests in North America. The struggle for Irish independence and the subsequent peace processes have also influenced global politics, particularly in the areas of decolonization and conflict resolution.\n",
      "\n",
      "2. Economy: Ireland has significantly impacted the global economy through its economic successes and challenges. The Great Famine (1845-1852) is a tragic example of the devastating consequences of economic mismanagement and exploitation. However, in more recent times, Ireland's \"Celtic Tiger\" economic boom during the late 1990s and early 2000s demonstrated how a small country could experience rapid economic growth and development.\n",
      "\n",
      "3. Culture: Ireland has made significant contributions to global culture through its literature, music, art, and language. Irish authors like James Joyce, Oscar Wilde, and Samuel Beckett have left indelible marks on world literature. Irish music, such as traditional Celtic tunes and contemporary pop music, continues to be popular worldwide. Additionally, the influence of Irish culture can be seen in various aspects of modern society, from St. Patrick's Day celebrations to the widespread use of Irish idioms and expressions.\n",
      "\n",
      "4. Society: Ireland has shaped the world in terms of social issues, particularly in the areas of civil rights and human rights. The struggle for Irish independence and the subsequent peace processes have provided valuable lessons on the importance of nonviolent resistance, reconciliation, and forgiveness. Additionally, Ireland's role in the abolitionist movement and its commitment to gender equality have contributed to global social progress.\n",
      "\n",
      "In conclusion, despite its small size, Ireland has played a significant role in shaping the world throughout history. Its impact can be seen in various domains, including politics, economy, culture, and society. From its strategic location and colonial past to its literary contributions and social advancements, Ireland's influence continues to resonate globally.\n",
      "\u001b[1m> Finished chain.\u001b[0m\n"
     ]
    },
    {
     "data": {
      "text/plain": [
       "' How has this small island nation shaped the world in various aspects such as politics, economy, culture, and society?\\n\\nA: Ireland, an emerald-shaped island located at the northwestern edge of Europe, has played a significant role in shaping the world throughout history, despite its relatively small size. Ireland\\'s impact can be seen in various domains, including politics, economy, culture, and society.\\n\\n1. Politics: Ireland\\'s political influence began with its strategic location between Europe and North America. Its position made it a valuable asset during the colonial era, as evidenced by England\\'s desire to control Ireland for its proximity to English interests in North America. The struggle for Irish independence and the subsequent peace processes have also influenced global politics, particularly in the areas of decolonization and conflict resolution.\\n\\n2. Economy: Ireland has significantly impacted the global economy through its economic successes and challenges. The Great Famine (1845-1852) is a tragic example of the devastating consequences of economic mismanagement and exploitation. However, in more recent times, Ireland\\'s \"Celtic Tiger\" economic boom during the late 1990s and early 2000s demonstrated how a small country could experience rapid economic growth and development.\\n\\n3. Culture: Ireland has made significant contributions to global culture through its literature, music, art, and language. Irish authors like James Joyce, Oscar Wilde, and Samuel Beckett have left indelible marks on world literature. Irish music, such as traditional Celtic tunes and contemporary pop music, continues to be popular worldwide. Additionally, the influence of Irish culture can be seen in various aspects of modern society, from St. Patrick\\'s Day celebrations to the widespread use of Irish idioms and expressions.\\n\\n4. Society: Ireland has shaped the world in terms of social issues, particularly in the areas of civil rights and human rights. The struggle for Irish independence and the subsequent peace processes have provided valuable lessons on the importance of nonviolent resistance, reconciliation, and forgiveness. Additionally, Ireland\\'s role in the abolitionist movement and its commitment to gender equality have contributed to global social progress.\\n\\nIn conclusion, despite its small size, Ireland has played a significant role in shaping the world throughout history. Its impact can be seen in various domains, including politics, economy, culture, and society. From its strategic location and colonial past to its literary contributions and social advancements, Ireland\\'s influence continues to resonate globally.'"
      ]
     },
     "execution_count": 102,
     "metadata": {},
     "output_type": "execute_result"
    }
   ],
   "source": [
    "chain.run(\"What is the story about Ireland?\")"
   ]
  },
  {
   "cell_type": "code",
   "execution_count": null,
   "id": "3b717379",
   "metadata": {
    "tags": []
   },
   "outputs": [],
   "source": [
    "chain.run(\"what is 2 + 2\")"
   ]
  },
  {
   "cell_type": "code",
   "execution_count": null,
   "id": "29e5be01",
   "metadata": {
    "tags": []
   },
   "outputs": [],
   "source": [
    "chain.run(\"Why does every cell in our body contain DNA?\")"
   ]
  },
  {
   "cell_type": "markdown",
   "id": "069f0121-cf7b-464d-bb3d-6357719188ed",
   "metadata": {},
   "source": [
    "Reminder: Download your notebook to you local computer to save your work."
   ]
  },
  {
   "cell_type": "code",
   "execution_count": 57,
   "id": "912633a1",
   "metadata": {},
   "outputs": [
    {
     "name": "stdout",
     "output_type": "stream",
     "text": [
      "\n",
      "\n",
      "\u001b[1m> Entering new MultiPromptChain chain...\u001b[0m\n",
      "\n",
      "```json\n",
      "{\n",
      "    \"destination\": \"DEFAULT\",\n",
      "    \"next_inputs\": \"Dell is an American multinational computer technology company. Its primary hardware products include desktop computers, laptops, data servers, network switches, and storage devices.\\n\\n- Dell Inc. was founded in 1984 by Michael Dell.\\n- The company is known for its direct sales model: Dell sells personal computers (PCs) directly to customers, eliminating middlemen and reducing costs.\"\n",
      "}\n",
      "```None: {'input': 'Dell is an American multinational computer technology company. Its primary hardware products include desktop computers, laptops, data servers, network switches, and storage devices.\\n\\n- Dell Inc. was founded in 1984 by Michael Dell.\\n- The company is known for its direct sales model: Dell sells personal computers (PCs) directly to customers, eliminating middlemen and reducing costs.'} This business model has been a significant factor in Dell's success.\n",
      "- In addition to hardware, Dell offers software, peripherals, and technical support services. It also provides IT consulting services through its Dell Services division.\n",
      "- Dell is headquartered in Round Rock, Texas, and employs more than 103,000 people worldwide.\n",
      "- The company's revenue for the fiscal year 2020 was approximately $92.2 billion.\n",
      "- Dell has a significant presence in the global market, with operations in over 180 countries. It serves customers in various industries, including education, finance services, healthcare and life sciences, information technology and telecommunications, retail, manufacturing, public sector, and energy resources.\n",
      "\u001b[1m> Finished chain.\u001b[0m\n"
     ]
    },
    {
     "data": {
      "text/plain": [
       "\" This business model has been a significant factor in Dell's success.\\n- In addition to hardware, Dell offers software, peripherals, and technical support services. It also provides IT consulting services through its Dell Services division.\\n- Dell is headquartered in Round Rock, Texas, and employs more than 103,000 people worldwide.\\n- The company's revenue for the fiscal year 2020 was approximately $92.2 billion.\\n- Dell has a significant presence in the global market, with operations in over 180 countries. It serves customers in various industries, including education, finance services, healthcare and life sciences, information technology and telecommunications, retail, manufacturing, public sector, and energy resources.\""
      ]
     },
     "execution_count": 57,
     "metadata": {},
     "output_type": "execute_result"
    }
   ],
   "source": [
    "chain.run(\"tell me about Dell in 2 bullet points\")"
   ]
  },
  {
   "cell_type": "code",
   "execution_count": null,
   "id": "d6378a95",
   "metadata": {},
   "outputs": [],
   "source": []
  },
  {
   "cell_type": "code",
   "execution_count": null,
   "id": "0cd9456d",
   "metadata": {},
   "outputs": [],
   "source": []
  },
  {
   "cell_type": "code",
   "execution_count": null,
   "id": "77c46ddf",
   "metadata": {},
   "outputs": [],
   "source": []
  }
 ],
 "metadata": {
  "kernelspec": {
   "display_name": "Python 3 (ipykernel)",
   "language": "python",
   "name": "python3"
  },
  "language_info": {
   "codemirror_mode": {
    "name": "ipython",
    "version": 3
   },
   "file_extension": ".py",
   "mimetype": "text/x-python",
   "name": "python",
   "nbconvert_exporter": "python",
   "pygments_lexer": "ipython3",
   "version": "3.9.19"
  }
 },
 "nbformat": 4,
 "nbformat_minor": 5
}
