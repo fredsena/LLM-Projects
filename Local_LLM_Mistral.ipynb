{
 "cells": [
  {
   "cell_type": "code",
   "execution_count": null,
   "id": "ed36a4c0-7b6a-4e6c-ac2a-0e207bb0b003",
   "metadata": {},
   "outputs": [],
   "source": [
    "%pip install -U transformers accelerate ctransformers langchain torch pydantic"
   ]
  },
  {
   "cell_type": "code",
   "execution_count": 1,
   "id": "6a87b768-8956-4c53-ae86-472a09972db0",
   "metadata": {},
   "outputs": [],
   "source": [
    "import os\n",
    "import torch\n",
    "import transformers\n",
    "from transformers import AutoTokenizer\n",
    "from pydantic import BaseModel, Field\n",
    "from typing import Type, Optional\n",
    "import json\n",
    "from langchain.llms import CTransformers\n",
    "from langchain import PromptTemplate, LLMChain"
   ]
  },
  {
   "cell_type": "code",
   "execution_count": 2,
   "id": "b4575695-b5ad-4e94-93bf-57cb3d54e83d",
   "metadata": {},
   "outputs": [],
   "source": [
    "MODEL_PATH = 'mistral-7b-instruct-v0.2.Q4_K_M.gguf'  # Replace this with the path to your model"
   ]
  },
  {
   "cell_type": "code",
   "execution_count": 3,
   "id": "dcbefe2f-90c7-42bd-8f49-eb6261352674",
   "metadata": {},
   "outputs": [],
   "source": [
    "config = {\n",
    "    \"max_new_tokens\": 2048,\n",
    "    \"context_length\": 4096,\n",
    "    \"repetition_penalty\": 1.1,\n",
    "    \"temperature\": 0.5,\n",
    "    \"top_k\": 50,\n",
    "    \"top_p\": 0.9,\n",
    "    \"stream\": True,\n",
    "    \"threads\": int(os.cpu_count() / 2)\n",
    "}"
   ]
  },
  {
   "cell_type": "code",
   "execution_count": 4,
   "id": "fb7fd6c1-6c86-44c4-9ed5-964cf87aa57f",
   "metadata": {},
   "outputs": [],
   "source": [
    "llm = CTransformers(model=MODEL_PATH,\n",
    "                    config=config)"
   ]
  },
  {
   "cell_type": "code",
   "execution_count": 7,
   "id": "311c6693-70c0-4da1-9a87-8e0fbf60b225",
   "metadata": {
    "id": "73bfcbb6"
   },
   "outputs": [],
   "source": [
    "from langchain.chains.conversation.memory import ConversationBufferWindowMemory"
   ]
  },
  {
   "cell_type": "markdown",
   "id": "88052dca-c1d7-4d09-bec9-a462d02e5c86",
   "metadata": {
    "id": "LkEwDPN3uPvD"
   },
   "source": [
    "## Custom tools"
   ]
  },
  {
   "cell_type": "code",
   "execution_count": 12,
   "id": "a0035ada-876e-4a77-bd26-5c30bd53a875",
   "metadata": {
    "id": "RYXpc6B9uUDo"
   },
   "outputs": [],
   "source": [
    "from langchain.agents import Tool\n",
    "from langchain.tools import BaseTool\n",
    "\n",
    "def meaning_of_life(input=\"\"):\n",
    "    return 'The meaning of life is 42 if rounded but is actually 42.17658'"
   ]
  },
  {
   "cell_type": "code",
   "execution_count": 13,
   "id": "a28a1811-def7-4db6-8447-adeea0eb709e",
   "metadata": {
    "id": "9Krov3FluULJ"
   },
   "outputs": [],
   "source": [
    "\n",
    "life_tool = Tool(\n",
    "    name='Meaning of Life',\n",
    "    func= meaning_of_life,\n",
    "    description=\"Useful for when you need to answer questions about the meaning of life. input should be MOL \"\n",
    ")"
   ]
  },
  {
   "cell_type": "markdown",
   "id": "f4dd1c64-1d31-44d2-b092-929f4396b417",
   "metadata": {
    "id": "yBLba0mTxnkM"
   },
   "source": [
    "## Random number"
   ]
  },
  {
   "cell_type": "code",
   "execution_count": 14,
   "id": "0464b914-eb8d-4943-8803-96ef4448eaab",
   "metadata": {
    "id": "OvPAX5Byxp-7"
   },
   "outputs": [],
   "source": [
    "import random\n",
    "\n",
    "def random_num(input=\"\"):\n",
    "    return random.randint(0,5)"
   ]
  },
  {
   "cell_type": "code",
   "execution_count": 16,
   "id": "227e2e01-bb7a-480d-8b69-31572f089bac",
   "metadata": {
    "colab": {
     "base_uri": "https://localhost:8080/"
    },
    "id": "c2ryltDax7nD",
    "outputId": "887889f7-7264-4f20-a51a-e39c6d83a7dc"
   },
   "outputs": [
    {
     "data": {
      "text/plain": [
       "4"
      ]
     },
     "execution_count": 16,
     "metadata": {},
     "output_type": "execute_result"
    }
   ],
   "source": [
    "random_num()"
   ]
  },
  {
   "cell_type": "code",
   "execution_count": 17,
   "id": "8e5e3783-f5ee-487c-8b83-895534657158",
   "metadata": {
    "id": "fQVQNtkDyHDV"
   },
   "outputs": [],
   "source": [
    "random_tool = Tool(\n",
    "    name='Random number',\n",
    "    func= random_num,\n",
    "    description=\"Useful for when you need to get a random number. input should be 'random'\"\n",
    ")"
   ]
  },
  {
   "cell_type": "markdown",
   "id": "982fdb27-7d0c-40a2-bdbc-ed830bd96db7",
   "metadata": {
    "id": "6e1f31b4"
   },
   "source": [
    "## Creating an agent"
   ]
  },
  {
   "cell_type": "code",
   "execution_count": 18,
   "id": "105e84f7-177c-4785-acaf-2b05c1907754",
   "metadata": {
    "id": "cskGNptztxaf"
   },
   "outputs": [
    {
     "name": "stderr",
     "output_type": "stream",
     "text": [
      "/home/fredsena/FredCodes/GIT/fred_env/lib/python3.9/site-packages/langchain_core/_api/deprecation.py:117: LangChainDeprecationWarning: The function `initialize_agent` was deprecated in LangChain 0.1.0 and will be removed in 0.2.0. Use Use new agent constructor methods like create_react_agent, create_json_agent, create_structured_chat_agent, etc. instead.\n",
      "  warn_deprecated(\n"
     ]
    }
   ],
   "source": [
    "from langchain.agents import initialize_agent\n",
    "\n",
    "tools = [random_tool, life_tool]\n",
    "\n",
    "# conversational agent memory\n",
    "memory = ConversationBufferWindowMemory(\n",
    "    memory_key='chat_history',\n",
    "    k=3,\n",
    "    return_messages=True\n",
    ")\n",
    "\n",
    "# create our agent\n",
    "conversational_agent = initialize_agent(\n",
    "    agent='chat-conversational-react-description',\n",
    "    tools=tools,\n",
    "    llm=llm,\n",
    "    verbose=True,\n",
    "    max_iterations=3,\n",
    "    early_stopping_method='generate',\n",
    "    memory=memory\n",
    ")"
   ]
  },
  {
   "cell_type": "code",
   "execution_count": 19,
   "id": "b5e3ed73-d0cc-4fca-aa93-74d991096a69",
   "metadata": {
    "colab": {
     "base_uri": "https://localhost:8080/"
    },
    "id": "uB2qtbC6rVnh",
    "outputId": "2b2d9b1f-698d-4595-ab9e-d30f629babc2"
   },
   "outputs": [
    {
     "name": "stderr",
     "output_type": "stream",
     "text": [
      "/home/fredsena/FredCodes/GIT/fred_env/lib/python3.9/site-packages/langchain_core/_api/deprecation.py:117: LangChainDeprecationWarning: The function `__call__` was deprecated in LangChain 0.1.0 and will be removed in 0.2.0. Use invoke instead.\n",
      "  warn_deprecated(\n"
     ]
    },
    {
     "name": "stdout",
     "output_type": "stream",
     "text": [
      "\n",
      "\n",
      "\u001b[1m> Entering new AgentExecutor chain...\u001b[0m\n",
      "\u001b[32;1m\u001b[1;3m\n",
      "\n",
      "ASSISTANT'S RESPONSE:\n",
      "```json\n",
      "{\n",
      "    \"action\": \"Meaning of Life\",\n",
      "    \"action_input\": \"The question at hand\"\n",
      "}\n",
      "```\u001b[0m\n",
      "Observation: \u001b[33;1m\u001b[1;3mThe meaning of life is 42 if rounded but is actually 42.17658\u001b[0m\n",
      "Thought:\u001b[32;1m\u001b[1;3m\n",
      "\n",
      "Assistant: \n",
      "\n",
      "ASSISTANT'S RESPONSE:\n",
      "```json\n",
      "{\n",
      "    \"action\": \"Final Answer\",\n",
      "    \"action_input\": \"The meaning of life is approximately 42.17658.\"\n",
      "}\n",
      "```\u001b[0m\n",
      "\n",
      "\u001b[1m> Finished chain.\u001b[0m\n"
     ]
    },
    {
     "data": {
      "text/plain": [
       "{'input': 'What is the meaning of life?',\n",
       " 'chat_history': [],\n",
       " 'output': 'The meaning of life is approximately 42.17658.'}"
      ]
     },
     "execution_count": 19,
     "metadata": {},
     "output_type": "execute_result"
    }
   ],
   "source": [
    "\n",
    "# conversational_agent(\"What time is it in London?\")\n",
    "\n",
    "\n",
    "conversational_agent(\"What is the meaning of life?\")"
   ]
  },
  {
   "cell_type": "code",
   "execution_count": 20,
   "id": "7aefd486-b382-4571-8c62-56a63fcb6c58",
   "metadata": {},
   "outputs": [
    {
     "name": "stdout",
     "output_type": "stream",
     "text": [
      "\n",
      "\n",
      "\u001b[1m> Entering new AgentExecutor chain...\u001b[0m\n",
      "\u001b[32;1m\u001b[1;3m\n",
      "\n",
      "```json\n",
      "{\n",
      "    \"action\": \"Meaning of Life\",\n",
      "    \"action_input\": \"Mexico\"\n",
      "}\n",
      "```\n",
      "\n",
      "ASSISTANT'S RESPONSE:\n",
      "--------------------\n",
      "\n",
      "```json\n",
      "{\n",
      "    \"action\": \"Final Answer\",\n",
      "    \"action_input\": \"Mexico is a country located in North America. It is the fifth most populous country in the Americas, with over 130 million people. Mexico's capital city is Mexico City, which is also its largest city. The country has a rich history and diverse culture, with influences from indigenous peoples, Europeans, Africans, and Asians. Mexico is known for its beautiful beaches, vibrant cities, delicious cuisine, and ancient ruins.\"\n",
      "}\n",
      "```\u001b[0m\n",
      "Observation: \u001b[33;1m\u001b[1;3mThe meaning of life is 42 if rounded but is actually 42.17658\u001b[0m\n",
      "Thought:\u001b[32;1m\u001b[1;3m\n",
      "\n",
      "AI: \n",
      "\n",
      "```json\n",
      "{\n",
      "    \"action\": \"Final Answer\",\n",
      "    \"action_input\": \"The meaning of life is approximately 42.17658.\"\n",
      "}\n",
      "```\u001b[0m\n",
      "\n",
      "\u001b[1m> Finished chain.\u001b[0m\n"
     ]
    },
    {
     "data": {
      "text/plain": [
       "{'input': 'tell me abouot mexico',\n",
       " 'chat_history': [HumanMessage(content='What is the meaning of life?'),\n",
       "  AIMessage(content='The meaning of life is approximately 42.17658.')],\n",
       " 'output': 'The meaning of life is approximately 42.17658.'}"
      ]
     },
     "execution_count": 20,
     "metadata": {},
     "output_type": "execute_result"
    }
   ],
   "source": [
    "conversational_agent(\"tell me abouot mexico\")"
   ]
  },
  {
   "cell_type": "code",
   "execution_count": null,
   "id": "03cb70da-de7b-42e3-8b1e-7056bd3173ad",
   "metadata": {},
   "outputs": [],
   "source": [
    "conversational_agent(\"summarize your latest answer in 3 bullet points\")"
   ]
  },
  {
   "cell_type": "code",
   "execution_count": 1,
   "id": "d61f57ae-eb27-446c-ad56-e2fabacf7ace",
   "metadata": {},
   "outputs": [
    {
     "name": "stderr",
     "output_type": "stream",
     "text": [
      "2024-04-18 05:36:42.501580: E tensorflow/compiler/xla/stream_executor/cuda/cuda_dnn.cc:9342] Unable to register cuDNN factory: Attempting to register factory for plugin cuDNN when one has already been registered\n",
      "2024-04-18 05:36:42.501619: E tensorflow/compiler/xla/stream_executor/cuda/cuda_fft.cc:609] Unable to register cuFFT factory: Attempting to register factory for plugin cuFFT when one has already been registered\n",
      "2024-04-18 05:36:42.503445: E tensorflow/compiler/xla/stream_executor/cuda/cuda_blas.cc:1518] Unable to register cuBLAS factory: Attempting to register factory for plugin cuBLAS when one has already been registered\n",
      "2024-04-18 05:36:42.685091: I tensorflow/core/platform/cpu_feature_guard.cc:182] This TensorFlow binary is optimized to use available CPU instructions in performance-critical operations.\n",
      "To enable the following instructions: AVX2 FMA, in other operations, rebuild TensorFlow with the appropriate compiler flags.\n",
      "2024-04-18 05:36:43.800247: W tensorflow/compiler/tf2tensorrt/utils/py_utils.cc:38] TF-TRT Warning: Could not find TensorRT\n"
     ]
    }
   ],
   "source": [
    "# from fastapi import FastAPI, Request\n",
    "from transformers import pipeline\n",
    "from pydantic import BaseModel\n",
    "\n",
    "\n",
    "# Create a class for the input data\n",
    "class InputData(BaseModel):\n",
    " prompt: str\n",
    "\n",
    "# Create a class for the output data\n",
    "class OutputData(BaseModel):\n",
    " response: str"
   ]
  },
  {
   "cell_type": "code",
   "execution_count": 2,
   "id": "d9cb9f55-2b2c-461c-9e88-932efda383ce",
   "metadata": {},
   "outputs": [
    {
     "data": {
      "application/vnd.jupyter.widget-view+json": {
       "model_id": "e9b948c617cc4d3c8ddc35494b53b5d6",
       "version_major": 2,
       "version_minor": 0
      },
      "text/plain": [
       "config.json:   0%|          | 0.00/665 [00:00<?, ?B/s]"
      ]
     },
     "metadata": {},
     "output_type": "display_data"
    },
    {
     "data": {
      "application/vnd.jupyter.widget-view+json": {
       "model_id": "686b15c095914eeab433077d3359ae65",
       "version_major": 2,
       "version_minor": 0
      },
      "text/plain": [
       "model.safetensors:   0%|          | 0.00/548M [00:00<?, ?B/s]"
      ]
     },
     "metadata": {},
     "output_type": "display_data"
    },
    {
     "data": {
      "application/vnd.jupyter.widget-view+json": {
       "model_id": "6422e93310854cf89a35f368738b12d8",
       "version_major": 2,
       "version_minor": 0
      },
      "text/plain": [
       "generation_config.json:   0%|          | 0.00/124 [00:00<?, ?B/s]"
      ]
     },
     "metadata": {},
     "output_type": "display_data"
    },
    {
     "data": {
      "application/vnd.jupyter.widget-view+json": {
       "model_id": "7dcfdae9e9504b72a02e1e1d0416e1d7",
       "version_major": 2,
       "version_minor": 0
      },
      "text/plain": [
       "tokenizer_config.json:   0%|          | 0.00/26.0 [00:00<?, ?B/s]"
      ]
     },
     "metadata": {},
     "output_type": "display_data"
    },
    {
     "data": {
      "application/vnd.jupyter.widget-view+json": {
       "model_id": "c260c1be6d3948f3b4d98b3c76ec2c17",
       "version_major": 2,
       "version_minor": 0
      },
      "text/plain": [
       "vocab.json:   0%|          | 0.00/1.04M [00:00<?, ?B/s]"
      ]
     },
     "metadata": {},
     "output_type": "display_data"
    },
    {
     "data": {
      "application/vnd.jupyter.widget-view+json": {
       "model_id": "30bd11acb6e64dda8eee2db4c8fe33cb",
       "version_major": 2,
       "version_minor": 0
      },
      "text/plain": [
       "merges.txt:   0%|          | 0.00/456k [00:00<?, ?B/s]"
      ]
     },
     "metadata": {},
     "output_type": "display_data"
    },
    {
     "data": {
      "application/vnd.jupyter.widget-view+json": {
       "model_id": "7b08e3becd584cc3ab94bc432d22f027",
       "version_major": 2,
       "version_minor": 0
      },
      "text/plain": [
       "tokenizer.json:   0%|          | 0.00/1.36M [00:00<?, ?B/s]"
      ]
     },
     "metadata": {},
     "output_type": "display_data"
    }
   ],
   "source": [
    "# Load a local LLM using Hugging Face Transformers\n",
    "# You can change the model name and the task according to your needs\n",
    "# For example, you can use “t5-base” for summarization or “bert-base-cased” for question answering\n",
    "model = pipeline(\"text-generation\", model=\"gpt2\")"
   ]
  },
  {
   "cell_type": "code",
   "execution_count": 7,
   "id": "163909c3-1183-4848-85a1-97fc05dd4147",
   "metadata": {},
   "outputs": [
    {
     "name": "stderr",
     "output_type": "stream",
     "text": [
      "Setting `pad_token_id` to `eos_token_id`:50256 for open-end generation.\n"
     ]
    },
    {
     "data": {
      "text/plain": [
       "'create a tale of two boys of each race who are constantly facing off in combat to save their own lives…\\n\\nAfter the death of her parents, Alice and her family move to a small town on the outskirts of the country. Two brothers and'"
      ]
     },
     "execution_count": 7,
     "metadata": {},
     "output_type": "execute_result"
    }
   ],
   "source": [
    "model(\"create a tale\")[0][\"generated_text\"]"
   ]
  },
  {
   "cell_type": "code",
   "execution_count": 12,
   "id": "9cc205b9-660f-4d0c-82ca-b663c7142cd0",
   "metadata": {
    "scrolled": true
   },
   "outputs": [
    {
     "name": "stderr",
     "output_type": "stream",
     "text": [
      "Setting `pad_token_id` to `eos_token_id`:50256 for open-end generation.\n"
     ]
    },
    {
     "data": {
      "text/plain": [
       "'Fred the Drummer is the youngest living child of the family, who was baptized and buried in St. Ann\\'s. A second born son, John William \"Bill\" L. McInerney, died on April 1, 1847, of'"
      ]
     },
     "execution_count": 12,
     "metadata": {},
     "output_type": "execute_result"
    }
   ],
   "source": [
    "model(\"Fred the Drummer\")[0][\"generated_text\"]"
   ]
  },
  {
   "cell_type": "code",
   "execution_count": 1,
   "id": "2084160e-45f6-4d2e-8d72-9ec2b7aae890",
   "metadata": {},
   "outputs": [],
   "source": [
    "import os\n",
    "# import transformers\n",
    "# from transformers import AutoTokenizer\n",
    "# from pydantic import BaseModel, Field\n",
    "# from typing import Type, Optional\n",
    "# import json\n",
    "from langchain.llms import CTransformers\n",
    "from langchain import PromptTemplate, LLMChain\n",
    "from langchain.chains.conversation.memory import ConversationBufferWindowMemory\n",
    "from huggingface_hub import hf_hub_download\n",
    "from langchain import PromptTemplate, HuggingFaceHub, LLMChain\n"
   ]
  },
  {
   "cell_type": "code",
   "execution_count": 2,
   "id": "1bd2b37d-d5c6-4b43-ace7-4d39b315e402",
   "metadata": {},
   "outputs": [],
   "source": [
    "GENERATIVE_AI_MODEL_REPO = \"TheBloke/Mistral-7B-Instruct-v0.2-GGUF\"\n",
    "GENERATIVE_AI_MODEL_FILE = \"mistral-7b-instruct-v0.2.Q4_K_M.gguf\"\n",
    "\n",
    "model_path = hf_hub_download(\n",
    "    repo_id=GENERATIVE_AI_MODEL_REPO,\n",
    "    filename=GENERATIVE_AI_MODEL_FILE\n",
    ")"
   ]
  },
  {
   "cell_type": "code",
   "execution_count": 3,
   "id": "5fd59096-6462-415c-a38f-1283ba48d1a4",
   "metadata": {},
   "outputs": [
    {
     "data": {
      "text/plain": [
       "'/home/fredsena/.cache/huggingface/hub/models--TheBloke--Mistral-7B-Instruct-v0.2-GGUF/snapshots/3a6fbf4a41a1d52e415a4958cde6856d34b2db93/mistral-7b-instruct-v0.2.Q4_K_M.gguf'"
      ]
     },
     "execution_count": 3,
     "metadata": {},
     "output_type": "execute_result"
    }
   ],
   "source": [
    "model_path"
   ]
  },
  {
   "cell_type": "code",
   "execution_count": 4,
   "id": "ad8e3ccc-942a-4250-9b45-6f35ebfece44",
   "metadata": {},
   "outputs": [],
   "source": [
    "config = {\n",
    "    \"max_new_tokens\": 2048,\n",
    "    \"context_length\": 4096,\n",
    "    \"repetition_penalty\": 1.1,\n",
    "    \"temperature\": 0,\n",
    "    \"top_k\": 50,\n",
    "    \"top_p\": 0.9,\n",
    "    \"stream\": True,\n",
    "    \"threads\": int(os.cpu_count() / 2)\n",
    "}\n",
    "\n",
    "llm = CTransformers(model=model_path, config=config)"
   ]
  },
  {
   "cell_type": "code",
   "execution_count": 5,
   "id": "4c374270-9eec-420c-a59a-e958094dd479",
   "metadata": {},
   "outputs": [],
   "source": [
    "from langchain import PromptTemplate, HuggingFaceHub, LLMChain\n",
    "\n",
    "template = \"\"\"Question: {question}\n",
    "\n",
    "Answer: Let's think step by step.\"\"\"\n",
    "\n",
    "prompt = PromptTemplate(template=template, input_variables=[\"question\"])"
   ]
  },
  {
   "cell_type": "code",
   "execution_count": 6,
   "id": "35030ba1-7f57-431e-8375-d31330b9ff60",
   "metadata": {},
   "outputs": [],
   "source": [
    "llm_chain = LLMChain(prompt=prompt, llm=llm)"
   ]
  },
  {
   "cell_type": "code",
   "execution_count": 8,
   "id": "6022f43c-e036-4c94-b610-97aab6335a70",
   "metadata": {},
   "outputs": [
    {
     "name": "stdout",
     "output_type": "stream",
     "text": [
      " Both capitalism and socialism are economic systems, but they have fundamental differences in how they approach the production, distribution, and ownership of goods and services.\n",
      "\n",
      "1. Ownership: In a capitalist economy, the means of production (factories, land, resources) are privately owned. Individuals or corporations own these assets and make decisions about what to produce, how much to produce, and how to sell it. In contrast, in a socialist economy, the means of production are collectively or publicly owned by the state or community.\n",
      "\n",
      "2. Production: Under capitalism, businesses aim for profit maximization. They produce goods and services based on market demand and competition. Prices are determined by supply and demand. In socialism, production is geared towards meeting the needs of society as a whole rather than generating profits. The goal is to provide essential goods and services to everyone, regardless of their ability to pay.\n",
      "\n",
      "3. Distribution: Capitalism relies on market forces to distribute goods and services. Prices reflect the cost of production plus a profit margin for the seller. In socialism, distribution is planned and controlled by the state or community. The aim is to ensure fairness and equality in access to essential goods and services.\n",
      "\n",
      "4. Role of government: In capitalism, the role of government is limited to maintaining law and order, protecting property rights, and providing public goods like infrastructure and defense. In socialism, the government plays a much more active role in managing the economy, controlling production, and ensuring equitable distribution of resources.\n",
      "\n",
      "5. Market vs plan: Capitalism operates on the principle of supply and demand, with markets determining prices and allocating resources. Socialism, on the other hand, relies on central planning to manage resources and allocate them according to societal needs.\n",
      "\n",
      "6. Economic freedom vs equality: Capitalism emphasizes individual economic freedom and entrepreneurship, while socialism prioritizes collective welfare and equality. In capitalism, individuals have the freedom to pursue their own interests and accumulate wealth, but this can lead to income inequality. Socialism aims to reduce income disparities by ensuring that everyone has access to essential goods and services.\n",
      "\n",
      "7. Efficiency vs fairness: Capitalism is often criticized for creating winners and losers, with some individuals or corporations reaping huge profits while others struggle. Socialism, on the other hand, strives for fairness and equality but may face challenges in terms of efficiency and incentives.\n",
      "\n",
      "In summary, capitalism and socialism represent two contrasting approaches to organizing an economy. Capitalism focuses on individual freedom, profit maximization, and market forces, while socialism prioritizes collective welfare, planning, and equitable distribution of resources. Both systems have their strengths and weaknesses, and the choice between them depends on one's values and priorities.\n"
     ]
    }
   ],
   "source": [
    "question = \"What is the difference between capitalism and socialism?\"\n",
    "# question = \"tell me a very short story\"\n",
    "print(llm_chain.run(question))"
   ]
  },
  {
   "cell_type": "code",
   "execution_count": null,
   "id": "76617a03-d570-4fda-a389-0131fb1ca23b",
   "metadata": {},
   "outputs": [],
   "source": []
  }
 ],
 "metadata": {
  "kernelspec": {
   "display_name": "Python 3 (ipykernel)",
   "language": "python",
   "name": "python3"
  },
  "language_info": {
   "codemirror_mode": {
    "name": "ipython",
    "version": 3
   },
   "file_extension": ".py",
   "mimetype": "text/x-python",
   "name": "python",
   "nbconvert_exporter": "python",
   "pygments_lexer": "ipython3",
   "version": "3.9.19"
  }
 },
 "nbformat": 4,
 "nbformat_minor": 5
}
