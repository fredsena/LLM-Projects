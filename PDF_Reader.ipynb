{
 "cells": [
  {
   "cell_type": "markdown",
   "metadata": {},
   "source": [
    "# Extracting text from PDF files"
   ]
  },
  {
   "cell_type": "code",
   "execution_count": 1,
   "metadata": {},
   "outputs": [],
   "source": [
    "# To read the PDF\n",
    "import PyPDF2\n",
    "# To analyze the PDF layout and extract text\n",
    "from pdfminer.high_level import extract_pages, extract_text\n",
    "from pdfminer.layout import LTTextContainer, LTChar, LTRect, LTFigure\n",
    "# To extract text from tables in PDF\n",
    "import pdfplumber\n",
    "# To extract the images from the PDFs\n",
    "from PIL import Image\n",
    "from pdf2image import convert_from_path\n",
    "# To perform OCR to extract text from images \n",
    "import pytesseract \n",
    "# To remove the additional created files\n",
    "import os"
   ]
  },
  {
   "cell_type": "code",
   "execution_count": null,
   "metadata": {},
   "outputs": [],
   "source": [
    "# from tika import parser # pip install tika\n",
    "\n",
    "# raw = parser.from_file('./files/Toyota.pdf')\n",
    "# print(raw['content'])"
   ]
  },
  {
   "cell_type": "code",
   "execution_count": 3,
   "metadata": {},
   "outputs": [],
   "source": [
    "from pypdf import PdfReader\n",
    "\n",
    "reader = PdfReader('./files/SPD-SX_PRO.pdf')\n",
    "text = \"\"\n",
    "for page in reader.pages:\n",
    "    text += page.extract_text() + \"\\n\""
   ]
  },
  {
   "cell_type": "code",
   "execution_count": null,
   "metadata": {},
   "outputs": [],
   "source": [
    "# print(text)"
   ]
  },
  {
   "cell_type": "code",
   "execution_count": 8,
   "metadata": {},
   "outputs": [],
   "source": [
    "import re\n",
    "\n",
    "def remove_index_content(text):\n",
    "    # Define regular expressions for common index patterns\n",
    "    index_patterns = [\n",
    "        r'\\.\\.\\.\\s*[pP]\\.\\s*\\d+',  # Matches entries like \"... P. 500\"\n",
    "        r'\\b\\d+\\s*[-\\.]?\\s*[A-Za-z]+\\s*\\.{3}\\s*\\d+',  # Matches entries like \"32. Before driving... 32\"\n",
    "        r'\\b[A-Za-z]+\\s*\\.{3}\\s*\\d+',  # Matches entries like \"Transmission ... 227\"\n",
    "        r'^\\s*\\*\\d+',  # Matches entries like \"*2\"\n",
    "        r'^\\d+$',  # Matches entries like \"1\"\n",
    "        r'^\\d+\\s*[-\\.]?\\s*\\d+\\s*\\.\\s*[A-Za-z]+',  # Matches entries like \"33 1-1. For safe use\"\n",
    "        r'^Table \\d+\\.\\d+\\s+',  # Matches entries like \"Table 7.7  Difference between metronomic and actual onsets of subdivisions\"\n",
    "        r'^Figure \\d+\\.\\d+\\s+',  # Matches entries like \"Figure 2.1  Bloco afro Olodum parading in Salvador and Olodum’s logo exhibiting\"\n",
    "        # Add more patterns as needed\n",
    "    ]\n",
    "\n",
    "    # Combine patterns into a single regular expression\n",
    "    index_regex = re.compile('|'.join(index_patterns), re.MULTILINE)\n",
    "\n",
    "    # Use the regular expression to remove index-like content\n",
    "    cleaned_text = re.sub(index_regex, '', text)\n",
    "\n",
    "    # Remove lines with 3 or more dots or spaces\n",
    "    cleaned_text = '\\n'.join(line for line in cleaned_text.split('\\n') if line.count('.') < 3 and line.count(' . ') < 3) \n",
    "\n",
    "    cleaned_text = cleaned_text.replace('■', ' ').replace('●', ' ')\n",
    "\n",
    "    return cleaned_text\n",
    "\n"
   ]
  },
  {
   "cell_type": "code",
   "execution_count": 9,
   "metadata": {},
   "outputs": [],
   "source": [
    "# import re\n",
    "\n",
    "# def clean(text):\n",
    "    \n",
    "#     # removing paragraph numbers\n",
    "#     text = re.sub('[0-9]+.\\t','',str(text))\n",
    "#     # removing new line characters\n",
    "#     text = re.sub('\\n ','',str(text))\n",
    "#     text = re.sub('\\n',' ',str(text))\n",
    "#     # removing apostrophes\n",
    "#     text = re.sub(\"'s\",'',str(text))\n",
    "#     # removing hyphens\n",
    "#     text = re.sub(\"-\",' ',str(text))\n",
    "#     text = re.sub(\"— \",'',str(text))\n",
    "#     # removing quotation marks\n",
    "#     text = re.sub('\\\"','',str(text))\n",
    "#     # removing salutations\n",
    "#     text = re.sub(\"Mr\\.\",'Mr',str(text))\n",
    "#     text = re.sub(\"Mrs\\.\",'Mrs',str(text))\n",
    "#     # removing any reference to outside text\n",
    "#     text = re.sub(\"[\\(\\[].*?[\\)\\]]\", \"\", str(text))\n",
    "    \n",
    "#     return text"
   ]
  },
  {
   "cell_type": "code",
   "execution_count": null,
   "metadata": {},
   "outputs": [],
   "source": [
    "# input_str = input_str.lower()\n",
    "# input_str = input_str.strip()\n"
   ]
  },
  {
   "cell_type": "code",
   "execution_count": null,
   "metadata": {},
   "outputs": [],
   "source": [
    "fred = remove_index_content(text)\n",
    "# resultFred = clean(fred)\n",
    "print(fred)"
   ]
  },
  {
   "cell_type": "code",
   "execution_count": 6,
   "metadata": {},
   "outputs": [],
   "source": [
    "with open('./files/SPD-SX_PRO.txt', 'w') as file:\n",
    "    # Write text to the file\n",
    "    file.write(fred)"
   ]
  },
  {
   "cell_type": "code",
   "execution_count": 2,
   "metadata": {},
   "outputs": [],
   "source": [
    "import os\n",
    "from io import StringIO\n",
    "import re\n",
    "from pdfminer.pdfinterp import PDFResourceManager, PDFPageInterpreter\n",
    "from pdfminer.converter import TextConverter\n",
    "from pdfminer.layout import LAParams\n",
    "from pdfminer.pdfpage import PDFPage"
   ]
  },
  {
   "cell_type": "code",
   "execution_count": 3,
   "metadata": {},
   "outputs": [],
   "source": [
    "def pdf_to_text(path):\n",
    "    '''Extract text from pdf documents\n",
    "    '''\n",
    "\n",
    "    manager = PDFResourceManager()\n",
    "    retstr = StringIO()\n",
    "    layout = LAParams(all_texts=False, detect_vertical=True)\n",
    "    device = TextConverter(manager, retstr, laparams=layout)\n",
    "    interpreter = PDFPageInterpreter(manager, device)\n",
    "    with open(path, 'rb') as filepath:\n",
    "        for page in PDFPage.get_pages(filepath, check_extractable=True):\n",
    "            interpreter.process_page(page)\n",
    "    text = retstr.getvalue()\n",
    "    device.close()\n",
    "    retstr.close()\n",
    "    return text"
   ]
  },
  {
   "cell_type": "code",
   "execution_count": 5,
   "metadata": {},
   "outputs": [],
   "source": [
    "text_from_pdf = pdf_to_text('./files/SPD-SX_PRO.pdf')"
   ]
  },
  {
   "cell_type": "code",
   "execution_count": null,
   "metadata": {},
   "outputs": [],
   "source": [
    "print(text_from_pdf)"
   ]
  },
  {
   "cell_type": "code",
   "execution_count": 11,
   "metadata": {},
   "outputs": [],
   "source": [
    "with open('./files/SPD-SX_PRO.txt', 'w') as file:\n",
    "    # Write text to the file\n",
    "    file.write(text_from_pdf)"
   ]
  },
  {
   "cell_type": "code",
   "execution_count": null,
   "metadata": {},
   "outputs": [],
   "source": []
  }
 ],
 "metadata": {
  "kernelspec": {
   "display_name": "Python 3 (ipykernel)",
   "language": "python",
   "name": "python3"
  },
  "language_info": {
   "codemirror_mode": {
    "name": "ipython",
    "version": 3
   },
   "file_extension": ".py",
   "mimetype": "text/x-python",
   "name": "python",
   "nbconvert_exporter": "python",
   "pygments_lexer": "ipython3",
   "version": "3.9.19"
  },
  "vscode": {
   "interpreter": {
    "hash": "18e1f6b75012c804af28ad83a5c9691a3f91030522fe6d37827743bbd4743ddd"
   }
  }
 },
 "nbformat": 4,
 "nbformat_minor": 4
}
